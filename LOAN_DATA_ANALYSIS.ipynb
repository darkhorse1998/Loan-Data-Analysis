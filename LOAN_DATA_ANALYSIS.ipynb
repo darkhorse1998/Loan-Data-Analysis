{
  "nbformat": 4,
  "nbformat_minor": 0,
  "metadata": {
    "colab": {
      "name": "Bank_Loan_3.ipynb",
      "provenance": [],
      "collapsed_sections": [
        "j2sNqeZtDyLw",
        "csaWRCiQ4eoO",
        "Euf6Bjh0D6FW",
        "7GfMtK0BLR-j",
        "wQelI3nEMLF5",
        "IYlwF1SbC5Dr",
        "bhC4PVNCIxgw",
        "Q99HIrT4Ji3n",
        "QisJAldgJr54",
        "F0Ojf-0vGEtg",
        "dRrL-FBWKjzj",
        "OueqPr9fN2YE",
        "CFrkst_yeUnd",
        "Q39g2GW9VC4q",
        "J7oi2_TjVtVZ",
        "iL2HOetYVH5o",
        "sNU7QQmWfWYc",
        "tcClUUEZYiLi",
        "yUlY2uApgCHO",
        "t5QUuHUpgkhw",
        "W2DueAkGZYIn",
        "1rl-XM_dxIcn",
        "B7rqdDLffdIw"
      ]
    },
    "kernelspec": {
      "name": "python3",
      "display_name": "Python 3"
    }
  },
  "cells": [
    {
      "cell_type": "markdown",
      "metadata": {
        "id": "j2sNqeZtDyLw",
        "colab_type": "text"
      },
      "source": [
        "# IMPORTING LIBRARIES"
      ]
    },
    {
      "cell_type": "code",
      "metadata": {
        "id": "qqeSy4lYATYn",
        "colab_type": "code",
        "colab": {}
      },
      "source": [
        "import pandas as pd\n",
        "import numpy as np\n",
        "import matplotlib.pyplot as plt\n",
        "import seaborn as sns\n",
        "import warnings\n",
        "from sklearn.model_selection import train_test_split\n",
        "\n",
        "%matplotlib inline"
      ],
      "execution_count": 17,
      "outputs": []
    },
    {
      "cell_type": "code",
      "metadata": {
        "id": "4F5bsktoDVlN",
        "colab_type": "code",
        "colab": {}
      },
      "source": [
        "plt.style.use(\"ggplot\")\n",
        "warnings.filterwarnings(\"ignore\")"
      ],
      "execution_count": 18,
      "outputs": []
    },
    {
      "cell_type": "markdown",
      "metadata": {
        "id": "csaWRCiQ4eoO",
        "colab_type": "text"
      },
      "source": [
        "# USER DEFINED FUNCTIONS"
      ]
    },
    {
      "cell_type": "code",
      "metadata": {
        "id": "rtkpJdu_4iK-",
        "colab_type": "code",
        "colab": {}
      },
      "source": [
        "def filling_choice(data):\n",
        "  df = data.copy()\n",
        "  cols = df.columns.to_list()\n",
        "  results = []\n",
        "  difference = []\n",
        "  df = df.dropna()\n",
        "  df.reset_index(drop=True)\n",
        "\n",
        "  for col in range(len(cols)):\n",
        "    ffill = 0\n",
        "    bfill = 0\n",
        "\n",
        "    for i in range(1,df.shape[0]-1):\n",
        "      last_ = df.iloc[i-1,col]\n",
        "      next_ = df.iloc[i+1,col]\n",
        "      present_ = df.iloc[i,col]\n",
        "\n",
        "      if(present_==last_):\n",
        "        ffill +=1\n",
        "      if(present_==next_):\n",
        "        bfill +=1\n",
        "\n",
        "    diff = ffill - bfill\n",
        "    if(diff>0):\n",
        "      results.append(\"ffill\")\n",
        "    elif(diff<0):\n",
        "      results.append(\"bfill\")\n",
        "    else:\n",
        "      results.append(\"equal\")\n",
        "    \n",
        "    difference.append(abs(diff))\n",
        "    \n",
        "  stats = pd.DataFrame()\n",
        "  stats['Columns'] = cols\n",
        "  stats['Filling_Method'] = results\n",
        "  stats['Difference'] = difference\n",
        "\n",
        "  return stats    "
      ],
      "execution_count": 19,
      "outputs": []
    },
    {
      "cell_type": "code",
      "metadata": {
        "id": "5Ke-xmCE4iWL",
        "colab_type": "code",
        "colab": {}
      },
      "source": [
        "def get_majority(df):\n",
        "  final=[]\n",
        "  for i in range(df.shape[0]):\n",
        "    if(df.loc[i,:].to_list().count(1)>2):\n",
        "      final.append(\"Y\")\n",
        "    else:\n",
        "      final.append(\"N\")\n",
        "  return final"
      ],
      "execution_count": 48,
      "outputs": []
    },
    {
      "cell_type": "markdown",
      "metadata": {
        "id": "Euf6Bjh0D6FW",
        "colab_type": "text"
      },
      "source": [
        "# DATA STATS"
      ]
    },
    {
      "cell_type": "code",
      "metadata": {
        "id": "DaBxhpHYDbFE",
        "colab_type": "code",
        "colab": {}
      },
      "source": [
        "orig_train = pd.read_excel(\"Project - 4 - Train Data.xlsx\")\n",
        "orig_test = pd.read_excel(\"Project - 4 - Test Data.xlsx\")"
      ],
      "execution_count": 20,
      "outputs": []
    },
    {
      "cell_type": "code",
      "metadata": {
        "id": "APZtxONwDnWl",
        "colab_type": "code",
        "colab": {}
      },
      "source": [
        "train = orig_train.copy()\n",
        "test = orig_test.copy()"
      ],
      "execution_count": 21,
      "outputs": []
    },
    {
      "cell_type": "code",
      "metadata": {
        "id": "R9RL6ZMsDupU",
        "colab_type": "code",
        "colab": {
          "base_uri": "https://localhost:8080/",
          "height": 0
        },
        "outputId": "724ceb5e-bce1-4b8c-f145-fcc70c6093e4"
      },
      "source": [
        "print(\"Train data shape: {}\".format((train.shape)))\n",
        "print(\"Test data shape: {}\".format((test.shape)))"
      ],
      "execution_count": 22,
      "outputs": [
        {
          "output_type": "stream",
          "text": [
            "Train data shape: (614, 20)\n",
            "Test data shape: (367, 19)\n"
          ],
          "name": "stdout"
        }
      ]
    },
    {
      "cell_type": "code",
      "metadata": {
        "id": "RwLuHIkd34uv",
        "colab_type": "code",
        "colab": {}
      },
      "source": [
        "#train.columns"
      ],
      "execution_count": 23,
      "outputs": []
    },
    {
      "cell_type": "code",
      "metadata": {
        "id": "G5YrwZNiJQMw",
        "colab_type": "code",
        "colab": {}
      },
      "source": [
        "#train.head()"
      ],
      "execution_count": 24,
      "outputs": []
    },
    {
      "cell_type": "code",
      "metadata": {
        "id": "6AipvduBEAcu",
        "colab_type": "code",
        "colab": {
          "base_uri": "https://localhost:8080/",
          "height": 0
        },
        "outputId": "779cf216-1c05-4cae-830e-5b2aa37d6c41"
      },
      "source": [
        "train.info()"
      ],
      "execution_count": 25,
      "outputs": [
        {
          "output_type": "stream",
          "text": [
            "<class 'pandas.core.frame.DataFrame'>\n",
            "RangeIndex: 614 entries, 0 to 613\n",
            "Data columns (total 20 columns):\n",
            " #   Column          Non-Null Count  Dtype  \n",
            "---  ------          --------------  -----  \n",
            " 0   Loanapp_ID      614 non-null    object \n",
            " 1   Sex             601 non-null    object \n",
            " 2   Marital_Status  611 non-null    object \n",
            " 3   first_name      614 non-null    object \n",
            " 4   last_name       614 non-null    object \n",
            " 5   email           614 non-null    object \n",
            " 6   address         614 non-null    object \n",
            " 7   Dependents      599 non-null    object \n",
            " 8   Qual_var        614 non-null    object \n",
            " 9   SE              582 non-null    object \n",
            " 10  App_Income_1    614 non-null    float64\n",
            " 11  App_Income_2    614 non-null    float64\n",
            " 12  CPL_Amount      612 non-null    float64\n",
            " 13  CPL_Term        600 non-null    float64\n",
            " 14  Credit_His      564 non-null    float64\n",
            " 15  Prop_Area       614 non-null    object \n",
            " 16  INT_ID          614 non-null    int64  \n",
            " 17  Prev_ID         614 non-null    object \n",
            " 18  AGT_ID          614 non-null    object \n",
            " 19  CPL_Status      614 non-null    object \n",
            "dtypes: float64(5), int64(1), object(14)\n",
            "memory usage: 96.1+ KB\n"
          ],
          "name": "stdout"
        }
      ]
    },
    {
      "cell_type": "code",
      "metadata": {
        "id": "NCT0oR_-4S5X",
        "colab_type": "code",
        "colab": {
          "base_uri": "https://localhost:8080/",
          "height": 0
        },
        "outputId": "5803c48d-0c49-42d5-8704-e2f8fe96dd30"
      },
      "source": [
        "train.describe()"
      ],
      "execution_count": 26,
      "outputs": [
        {
          "output_type": "execute_result",
          "data": {
            "text/html": [
              "<div>\n",
              "<style scoped>\n",
              "    .dataframe tbody tr th:only-of-type {\n",
              "        vertical-align: middle;\n",
              "    }\n",
              "\n",
              "    .dataframe tbody tr th {\n",
              "        vertical-align: top;\n",
              "    }\n",
              "\n",
              "    .dataframe thead th {\n",
              "        text-align: right;\n",
              "    }\n",
              "</style>\n",
              "<table border=\"1\" class=\"dataframe\">\n",
              "  <thead>\n",
              "    <tr style=\"text-align: right;\">\n",
              "      <th></th>\n",
              "      <th>App_Income_1</th>\n",
              "      <th>App_Income_2</th>\n",
              "      <th>CPL_Amount</th>\n",
              "      <th>CPL_Term</th>\n",
              "      <th>Credit_His</th>\n",
              "      <th>INT_ID</th>\n",
              "    </tr>\n",
              "  </thead>\n",
              "  <tbody>\n",
              "    <tr>\n",
              "      <th>count</th>\n",
              "      <td>614.000000</td>\n",
              "      <td>614.000000</td>\n",
              "      <td>612.000000</td>\n",
              "      <td>600.00000</td>\n",
              "      <td>564.000000</td>\n",
              "      <td>6.140000e+02</td>\n",
              "    </tr>\n",
              "    <tr>\n",
              "      <th>mean</th>\n",
              "      <td>6484.151140</td>\n",
              "      <td>1945.494958</td>\n",
              "      <td>175.805882</td>\n",
              "      <td>342.00000</td>\n",
              "      <td>0.842199</td>\n",
              "      <td>5.055666e+09</td>\n",
              "    </tr>\n",
              "    <tr>\n",
              "      <th>std</th>\n",
              "      <td>7330.850008</td>\n",
              "      <td>3511.498043</td>\n",
              "      <td>102.606123</td>\n",
              "      <td>65.12041</td>\n",
              "      <td>0.364878</td>\n",
              "      <td>2.890445e+09</td>\n",
              "    </tr>\n",
              "    <tr>\n",
              "      <th>min</th>\n",
              "      <td>180.000000</td>\n",
              "      <td>0.000000</td>\n",
              "      <td>10.800000</td>\n",
              "      <td>12.00000</td>\n",
              "      <td>0.000000</td>\n",
              "      <td>1.788664e+07</td>\n",
              "    </tr>\n",
              "    <tr>\n",
              "      <th>25%</th>\n",
              "      <td>3453.000000</td>\n",
              "      <td>0.000000</td>\n",
              "      <td>120.000000</td>\n",
              "      <td>360.00000</td>\n",
              "      <td>1.000000</td>\n",
              "      <td>2.561243e+09</td>\n",
              "    </tr>\n",
              "    <tr>\n",
              "      <th>50%</th>\n",
              "      <td>4575.000000</td>\n",
              "      <td>1426.200000</td>\n",
              "      <td>153.600000</td>\n",
              "      <td>360.00000</td>\n",
              "      <td>1.000000</td>\n",
              "      <td>5.244783e+09</td>\n",
              "    </tr>\n",
              "    <tr>\n",
              "      <th>75%</th>\n",
              "      <td>6954.000000</td>\n",
              "      <td>2756.700000</td>\n",
              "      <td>200.700000</td>\n",
              "      <td>360.00000</td>\n",
              "      <td>1.000000</td>\n",
              "      <td>7.495052e+09</td>\n",
              "    </tr>\n",
              "    <tr>\n",
              "      <th>max</th>\n",
              "      <td>97200.000000</td>\n",
              "      <td>50000.400000</td>\n",
              "      <td>840.000000</td>\n",
              "      <td>480.00000</td>\n",
              "      <td>1.000000</td>\n",
              "      <td>9.989158e+09</td>\n",
              "    </tr>\n",
              "  </tbody>\n",
              "</table>\n",
              "</div>"
            ],
            "text/plain": [
              "       App_Income_1  App_Income_2  ...  Credit_His        INT_ID\n",
              "count    614.000000    614.000000  ...  564.000000  6.140000e+02\n",
              "mean    6484.151140   1945.494958  ...    0.842199  5.055666e+09\n",
              "std     7330.850008   3511.498043  ...    0.364878  2.890445e+09\n",
              "min      180.000000      0.000000  ...    0.000000  1.788664e+07\n",
              "25%     3453.000000      0.000000  ...    1.000000  2.561243e+09\n",
              "50%     4575.000000   1426.200000  ...    1.000000  5.244783e+09\n",
              "75%     6954.000000   2756.700000  ...    1.000000  7.495052e+09\n",
              "max    97200.000000  50000.400000  ...    1.000000  9.989158e+09\n",
              "\n",
              "[8 rows x 6 columns]"
            ]
          },
          "metadata": {
            "tags": []
          },
          "execution_count": 26
        }
      ]
    },
    {
      "cell_type": "code",
      "metadata": {
        "id": "R8eefTQGH2Ig",
        "colab_type": "code",
        "colab": {}
      },
      "source": [
        ""
      ],
      "execution_count": 26,
      "outputs": []
    },
    {
      "cell_type": "markdown",
      "metadata": {
        "id": "7GfMtK0BLR-j",
        "colab_type": "text"
      },
      "source": [
        "### Correcting Datatype of Dependents Column"
      ]
    },
    {
      "cell_type": "code",
      "metadata": {
        "id": "qIaxlIfuLYfh",
        "colab_type": "code",
        "colab": {}
      },
      "source": [
        "for i in range(train.shape[0]):\n",
        "  if(train.loc[i,'Dependents']==\"3+\"):\n",
        "    train.loc[i,'Dependents'] = \"3\"\n",
        "for i in range(test.shape[0]):\n",
        "  if(test.loc[i,'Dependents']==\"3+\"):\n",
        "    test.loc[i,'Dependents'] = \"3\""
      ],
      "execution_count": 27,
      "outputs": []
    },
    {
      "cell_type": "markdown",
      "metadata": {
        "id": "wQelI3nEMLF5",
        "colab_type": "text"
      },
      "source": [
        "# DEALING WITH NULL VALUES"
      ]
    },
    {
      "cell_type": "code",
      "metadata": {
        "id": "BPqm0hO8ELRU",
        "colab_type": "code",
        "colab": {
          "base_uri": "https://localhost:8080/",
          "height": 0
        },
        "outputId": "8dfc9577-2b88-468b-b449-5f8b1a51d611"
      },
      "source": [
        "train.isna().sum()"
      ],
      "execution_count": 28,
      "outputs": [
        {
          "output_type": "execute_result",
          "data": {
            "text/plain": [
              "Loanapp_ID         0\n",
              "Sex               13\n",
              "Marital_Status     3\n",
              "first_name         0\n",
              "last_name          0\n",
              "email              0\n",
              "address            0\n",
              "Dependents        15\n",
              "Qual_var           0\n",
              "SE                32\n",
              "App_Income_1       0\n",
              "App_Income_2       0\n",
              "CPL_Amount         2\n",
              "CPL_Term          14\n",
              "Credit_His        50\n",
              "Prop_Area          0\n",
              "INT_ID             0\n",
              "Prev_ID            0\n",
              "AGT_ID             0\n",
              "CPL_Status         0\n",
              "dtype: int64"
            ]
          },
          "metadata": {
            "tags": []
          },
          "execution_count": 28
        }
      ]
    },
    {
      "cell_type": "code",
      "metadata": {
        "id": "CFAyJZ2xKoAJ",
        "colab_type": "code",
        "colab": {}
      },
      "source": [
        "train[\"Dependents\"]=train[\"Dependents\"].astype(str).astype(float)"
      ],
      "execution_count": 29,
      "outputs": []
    },
    {
      "cell_type": "code",
      "metadata": {
        "id": "TKu1BFOu3AVD",
        "colab_type": "code",
        "colab": {
          "base_uri": "https://localhost:8080/",
          "height": 0
        },
        "outputId": "1c408b5b-841a-4f23-bd00-456b788cc004"
      },
      "source": [
        "filling_choice(train)"
      ],
      "execution_count": 30,
      "outputs": [
        {
          "output_type": "execute_result",
          "data": {
            "text/html": [
              "<div>\n",
              "<style scoped>\n",
              "    .dataframe tbody tr th:only-of-type {\n",
              "        vertical-align: middle;\n",
              "    }\n",
              "\n",
              "    .dataframe tbody tr th {\n",
              "        vertical-align: top;\n",
              "    }\n",
              "\n",
              "    .dataframe thead th {\n",
              "        text-align: right;\n",
              "    }\n",
              "</style>\n",
              "<table border=\"1\" class=\"dataframe\">\n",
              "  <thead>\n",
              "    <tr style=\"text-align: right;\">\n",
              "      <th></th>\n",
              "      <th>Columns</th>\n",
              "      <th>Filling_Method</th>\n",
              "      <th>Difference</th>\n",
              "    </tr>\n",
              "  </thead>\n",
              "  <tbody>\n",
              "    <tr>\n",
              "      <th>0</th>\n",
              "      <td>Loanapp_ID</td>\n",
              "      <td>equal</td>\n",
              "      <td>0</td>\n",
              "    </tr>\n",
              "    <tr>\n",
              "      <th>1</th>\n",
              "      <td>Sex</td>\n",
              "      <td>ffill</td>\n",
              "      <td>1</td>\n",
              "    </tr>\n",
              "    <tr>\n",
              "      <th>2</th>\n",
              "      <td>Marital_Status</td>\n",
              "      <td>ffill</td>\n",
              "      <td>1</td>\n",
              "    </tr>\n",
              "    <tr>\n",
              "      <th>3</th>\n",
              "      <td>first_name</td>\n",
              "      <td>equal</td>\n",
              "      <td>0</td>\n",
              "    </tr>\n",
              "    <tr>\n",
              "      <th>4</th>\n",
              "      <td>last_name</td>\n",
              "      <td>equal</td>\n",
              "      <td>0</td>\n",
              "    </tr>\n",
              "    <tr>\n",
              "      <th>5</th>\n",
              "      <td>email</td>\n",
              "      <td>equal</td>\n",
              "      <td>0</td>\n",
              "    </tr>\n",
              "    <tr>\n",
              "      <th>6</th>\n",
              "      <td>address</td>\n",
              "      <td>equal</td>\n",
              "      <td>0</td>\n",
              "    </tr>\n",
              "    <tr>\n",
              "      <th>7</th>\n",
              "      <td>Dependents</td>\n",
              "      <td>equal</td>\n",
              "      <td>0</td>\n",
              "    </tr>\n",
              "    <tr>\n",
              "      <th>8</th>\n",
              "      <td>Qual_var</td>\n",
              "      <td>equal</td>\n",
              "      <td>0</td>\n",
              "    </tr>\n",
              "    <tr>\n",
              "      <th>9</th>\n",
              "      <td>SE</td>\n",
              "      <td>equal</td>\n",
              "      <td>0</td>\n",
              "    </tr>\n",
              "    <tr>\n",
              "      <th>10</th>\n",
              "      <td>App_Income_1</td>\n",
              "      <td>equal</td>\n",
              "      <td>0</td>\n",
              "    </tr>\n",
              "    <tr>\n",
              "      <th>11</th>\n",
              "      <td>App_Income_2</td>\n",
              "      <td>bfill</td>\n",
              "      <td>1</td>\n",
              "    </tr>\n",
              "    <tr>\n",
              "      <th>12</th>\n",
              "      <td>CPL_Amount</td>\n",
              "      <td>equal</td>\n",
              "      <td>0</td>\n",
              "    </tr>\n",
              "    <tr>\n",
              "      <th>13</th>\n",
              "      <td>CPL_Term</td>\n",
              "      <td>equal</td>\n",
              "      <td>0</td>\n",
              "    </tr>\n",
              "    <tr>\n",
              "      <th>14</th>\n",
              "      <td>Credit_His</td>\n",
              "      <td>ffill</td>\n",
              "      <td>1</td>\n",
              "    </tr>\n",
              "    <tr>\n",
              "      <th>15</th>\n",
              "      <td>Prop_Area</td>\n",
              "      <td>equal</td>\n",
              "      <td>0</td>\n",
              "    </tr>\n",
              "    <tr>\n",
              "      <th>16</th>\n",
              "      <td>INT_ID</td>\n",
              "      <td>equal</td>\n",
              "      <td>0</td>\n",
              "    </tr>\n",
              "    <tr>\n",
              "      <th>17</th>\n",
              "      <td>Prev_ID</td>\n",
              "      <td>equal</td>\n",
              "      <td>0</td>\n",
              "    </tr>\n",
              "    <tr>\n",
              "      <th>18</th>\n",
              "      <td>AGT_ID</td>\n",
              "      <td>equal</td>\n",
              "      <td>0</td>\n",
              "    </tr>\n",
              "    <tr>\n",
              "      <th>19</th>\n",
              "      <td>CPL_Status</td>\n",
              "      <td>equal</td>\n",
              "      <td>0</td>\n",
              "    </tr>\n",
              "  </tbody>\n",
              "</table>\n",
              "</div>"
            ],
            "text/plain": [
              "           Columns Filling_Method  Difference\n",
              "0       Loanapp_ID          equal           0\n",
              "1              Sex          ffill           1\n",
              "2   Marital_Status          ffill           1\n",
              "3       first_name          equal           0\n",
              "4        last_name          equal           0\n",
              "5            email          equal           0\n",
              "6          address          equal           0\n",
              "7       Dependents          equal           0\n",
              "8         Qual_var          equal           0\n",
              "9               SE          equal           0\n",
              "10    App_Income_1          equal           0\n",
              "11    App_Income_2          bfill           1\n",
              "12      CPL_Amount          equal           0\n",
              "13        CPL_Term          equal           0\n",
              "14      Credit_His          ffill           1\n",
              "15       Prop_Area          equal           0\n",
              "16          INT_ID          equal           0\n",
              "17         Prev_ID          equal           0\n",
              "18          AGT_ID          equal           0\n",
              "19      CPL_Status          equal           0"
            ]
          },
          "metadata": {
            "tags": []
          },
          "execution_count": 30
        }
      ]
    },
    {
      "cell_type": "markdown",
      "metadata": {
        "id": "IYlwF1SbC5Dr",
        "colab_type": "text"
      },
      "source": [
        "## Filling Null values"
      ]
    },
    {
      "cell_type": "code",
      "metadata": {
        "id": "BmCsJMSOGME1",
        "colab_type": "code",
        "colab": {}
      },
      "source": [
        "train.fillna(method='ffill', limit = 1,inplace=True)\n",
        "train.dropna(axis=0,inplace=True)"
      ],
      "execution_count": 31,
      "outputs": []
    },
    {
      "cell_type": "code",
      "metadata": {
        "id": "XitNpNPHHRth",
        "colab_type": "code",
        "colab": {}
      },
      "source": [
        "train = train.reset_index(drop=True)"
      ],
      "execution_count": 32,
      "outputs": []
    },
    {
      "cell_type": "code",
      "metadata": {
        "id": "lzAO-zg0HP0S",
        "colab_type": "code",
        "colab": {
          "base_uri": "https://localhost:8080/",
          "height": 0
        },
        "outputId": "4a997a5c-8adb-49da-efd8-c20732623cce"
      },
      "source": [
        "train.shape"
      ],
      "execution_count": 33,
      "outputs": [
        {
          "output_type": "execute_result",
          "data": {
            "text/plain": [
              "(605, 20)"
            ]
          },
          "metadata": {
            "tags": []
          },
          "execution_count": 33
        }
      ]
    },
    {
      "cell_type": "code",
      "metadata": {
        "id": "lU3Sj1HWHTqw",
        "colab_type": "code",
        "colab": {}
      },
      "source": [
        ""
      ],
      "execution_count": 33,
      "outputs": []
    },
    {
      "cell_type": "markdown",
      "metadata": {
        "id": "bhC4PVNCIxgw",
        "colab_type": "text"
      },
      "source": [
        "# REMOVE OBVIOUS COLUMNS"
      ]
    },
    {
      "cell_type": "code",
      "metadata": {
        "id": "6zZ_g0a0ICKh",
        "colab_type": "code",
        "colab": {}
      },
      "source": [
        "train.drop([\"Loanapp_ID\",\"first_name\",\"last_name\",\"email\",\"address\",\"INT_ID\",\"Prev_ID\",\"AGT_ID\"],axis=1,inplace=True)\n",
        "test.drop([\"Loanapp_ID\",\"first_name\",\"last_name\",\"email\",\"address\",\"INT_ID\",\"Prev_ID\",\"AGT_ID\"],axis=1,inplace=True)"
      ],
      "execution_count": 34,
      "outputs": []
    },
    {
      "cell_type": "code",
      "metadata": {
        "id": "EWx8XDKQ4MlY",
        "colab_type": "code",
        "colab": {}
      },
      "source": [
        "#sns.pairplot(train,hue='CPL_Status')"
      ],
      "execution_count": 35,
      "outputs": []
    },
    {
      "cell_type": "markdown",
      "metadata": {
        "id": "Q99HIrT4Ji3n",
        "colab_type": "text"
      },
      "source": [
        "# EDA"
      ]
    },
    {
      "cell_type": "code",
      "metadata": {
        "id": "gIYQa8XZJxcX",
        "colab_type": "code",
        "colab": {
          "base_uri": "https://localhost:8080/",
          "height": 195
        },
        "outputId": "38c0b67a-3de6-4d09-e2dd-fd19a1359ec3"
      },
      "source": [
        "train.head()"
      ],
      "execution_count": 36,
      "outputs": [
        {
          "output_type": "execute_result",
          "data": {
            "text/html": [
              "<div>\n",
              "<style scoped>\n",
              "    .dataframe tbody tr th:only-of-type {\n",
              "        vertical-align: middle;\n",
              "    }\n",
              "\n",
              "    .dataframe tbody tr th {\n",
              "        vertical-align: top;\n",
              "    }\n",
              "\n",
              "    .dataframe thead th {\n",
              "        text-align: right;\n",
              "    }\n",
              "</style>\n",
              "<table border=\"1\" class=\"dataframe\">\n",
              "  <thead>\n",
              "    <tr style=\"text-align: right;\">\n",
              "      <th></th>\n",
              "      <th>Sex</th>\n",
              "      <th>Marital_Status</th>\n",
              "      <th>Dependents</th>\n",
              "      <th>Qual_var</th>\n",
              "      <th>SE</th>\n",
              "      <th>App_Income_1</th>\n",
              "      <th>App_Income_2</th>\n",
              "      <th>CPL_Amount</th>\n",
              "      <th>CPL_Term</th>\n",
              "      <th>Credit_His</th>\n",
              "      <th>Prop_Area</th>\n",
              "      <th>CPL_Status</th>\n",
              "    </tr>\n",
              "  </thead>\n",
              "  <tbody>\n",
              "    <tr>\n",
              "      <th>0</th>\n",
              "      <td>M</td>\n",
              "      <td>Y</td>\n",
              "      <td>1.0</td>\n",
              "      <td>Grad</td>\n",
              "      <td>N</td>\n",
              "      <td>5499.6</td>\n",
              "      <td>1809.6</td>\n",
              "      <td>153.6</td>\n",
              "      <td>360.0</td>\n",
              "      <td>1.0</td>\n",
              "      <td>Rural</td>\n",
              "      <td>N</td>\n",
              "    </tr>\n",
              "    <tr>\n",
              "      <th>1</th>\n",
              "      <td>M</td>\n",
              "      <td>Y</td>\n",
              "      <td>0.0</td>\n",
              "      <td>Grad</td>\n",
              "      <td>Y</td>\n",
              "      <td>3600.0</td>\n",
              "      <td>0.0</td>\n",
              "      <td>79.2</td>\n",
              "      <td>360.0</td>\n",
              "      <td>1.0</td>\n",
              "      <td>Urban</td>\n",
              "      <td>Y</td>\n",
              "    </tr>\n",
              "    <tr>\n",
              "      <th>2</th>\n",
              "      <td>M</td>\n",
              "      <td>Y</td>\n",
              "      <td>0.0</td>\n",
              "      <td>Non Grad</td>\n",
              "      <td>N</td>\n",
              "      <td>3099.6</td>\n",
              "      <td>2829.6</td>\n",
              "      <td>144.0</td>\n",
              "      <td>360.0</td>\n",
              "      <td>1.0</td>\n",
              "      <td>Urban</td>\n",
              "      <td>Y</td>\n",
              "    </tr>\n",
              "    <tr>\n",
              "      <th>3</th>\n",
              "      <td>M</td>\n",
              "      <td>N</td>\n",
              "      <td>0.0</td>\n",
              "      <td>Grad</td>\n",
              "      <td>N</td>\n",
              "      <td>7200.0</td>\n",
              "      <td>0.0</td>\n",
              "      <td>169.2</td>\n",
              "      <td>360.0</td>\n",
              "      <td>1.0</td>\n",
              "      <td>Urban</td>\n",
              "      <td>Y</td>\n",
              "    </tr>\n",
              "    <tr>\n",
              "      <th>4</th>\n",
              "      <td>M</td>\n",
              "      <td>Y</td>\n",
              "      <td>2.0</td>\n",
              "      <td>Grad</td>\n",
              "      <td>Y</td>\n",
              "      <td>6500.4</td>\n",
              "      <td>5035.2</td>\n",
              "      <td>320.4</td>\n",
              "      <td>360.0</td>\n",
              "      <td>1.0</td>\n",
              "      <td>Urban</td>\n",
              "      <td>Y</td>\n",
              "    </tr>\n",
              "  </tbody>\n",
              "</table>\n",
              "</div>"
            ],
            "text/plain": [
              "  Sex Marital_Status  Dependents  ... Credit_His Prop_Area  CPL_Status\n",
              "0   M              Y         1.0  ...        1.0     Rural           N\n",
              "1   M              Y         0.0  ...        1.0     Urban           Y\n",
              "2   M              Y         0.0  ...        1.0     Urban           Y\n",
              "3   M              N         0.0  ...        1.0     Urban           Y\n",
              "4   M              Y         2.0  ...        1.0     Urban           Y\n",
              "\n",
              "[5 rows x 12 columns]"
            ]
          },
          "metadata": {
            "tags": []
          },
          "execution_count": 36
        }
      ]
    },
    {
      "cell_type": "markdown",
      "metadata": {
        "id": "QisJAldgJr54",
        "colab_type": "text"
      },
      "source": [
        "## Categorical Data"
      ]
    },
    {
      "cell_type": "code",
      "metadata": {
        "id": "7LXhXmBxJrQA",
        "colab_type": "code",
        "colab": {}
      },
      "source": [
        "cat_cols = train.select_dtypes(include=\"object\")"
      ],
      "execution_count": 148,
      "outputs": []
    },
    {
      "cell_type": "code",
      "metadata": {
        "id": "Pj5KRJbNOOwN",
        "colab_type": "code",
        "colab": {}
      },
      "source": [
        "cat_cols_y = cat_cols[\"CPL_Status\"]\n",
        "cat_cols_x = cat_cols.drop(\"CPL_Status\",axis=1)\n",
        "cat_cols_x['Dependents'] = train['Dependents']\n",
        "cat_cols_x['Credit_His'] = train['Credit_His']"
      ],
      "execution_count": 149,
      "outputs": []
    },
    {
      "cell_type": "code",
      "metadata": {
        "id": "3wHptTfMJhvO",
        "colab_type": "code",
        "colab": {}
      },
      "source": [
        "#cat_cols"
      ],
      "execution_count": 150,
      "outputs": []
    },
    {
      "cell_type": "code",
      "metadata": {
        "id": "lJfUNEz0J-5u",
        "colab_type": "code",
        "colab": {
          "base_uri": "https://localhost:8080/",
          "height": 680
        },
        "outputId": "65ae67e4-ec55-421e-e0f3-cf04303de03c"
      },
      "source": [
        "f,ax = plt.subplots(2,4,figsize=(20,10))\n",
        "plt.suptitle(\"PLOTS FOR CATEGORICAL DATA\", fontsize=30)\n",
        "sns.countplot(x = \"Sex\", data = train, hue='CPL_Status',ax=ax[0,0] )\n",
        "sns.countplot(x = \"Marital_Status\", data = train, hue='CPL_Status',ax=ax[0,1] )\n",
        "sns.countplot(x = \"Qual_var\", data = train, hue='CPL_Status',ax=ax[0,2] )\n",
        "sns.countplot(x = \"SE\", data = train, hue='CPL_Status',ax=ax[0,3] )\n",
        "sns.countplot(x = \"Prop_Area\", data = train, hue='CPL_Status',ax=ax[1,0] )\n",
        "sns.countplot(x = \"Dependents\", data = train, ax=ax[1,1], hue='CPL_Status')\n",
        "sns.countplot(x = \"Credit_His\", data = train, ax=ax[1,2], hue='CPL_Status')\n",
        "sns.countplot(x = \"CPL_Status\", data = train, ax=ax[1,3], hue='CPL_Status' )\n",
        "plt.show()"
      ],
      "execution_count": 151,
      "outputs": [
        {
          "output_type": "display_data",
          "data": {
            "image/png": "[encoded data removed]",
            "text/plain": [
              "<Figure size 1440x720 with 8 Axes>"
            ]
          },
          "metadata": {
            "tags": []
          }
        }
      ]
    },
    {
      "cell_type": "code",
      "metadata": {
        "id": "jPU25BTZMe4f",
        "colab_type": "code",
        "colab": {}
      },
      "source": [
        "from sklearn.feature_selection import SelectKBest,chi2,mutual_info_classif\n",
        "from sklearn.preprocessing import OrdinalEncoder, LabelEncoder"
      ],
      "execution_count": 152,
      "outputs": []
    },
    {
      "cell_type": "code",
      "metadata": {
        "id": "uO0LdB7_Nztw",
        "colab_type": "code",
        "colab": {}
      },
      "source": [
        "oe = OrdinalEncoder()\n",
        "oe.fit(cat_cols_x)\n",
        "cat_cols_x_ = oe.transform(cat_cols_x)\n",
        "\n",
        "le = LabelEncoder()\n",
        "le.fit(cat_cols_y)\n",
        "cat_cols_y_ = le.transform(cat_cols_y)"
      ],
      "execution_count": 153,
      "outputs": []
    },
    {
      "cell_type": "code",
      "metadata": {
        "id": "rSFPcdrAWY5P",
        "colab_type": "code",
        "colab": {}
      },
      "source": [
        ""
      ],
      "execution_count": 153,
      "outputs": []
    },
    {
      "cell_type": "code",
      "metadata": {
        "id": "5vTkWjUhotNx",
        "colab_type": "code",
        "colab": {}
      },
      "source": [
        "sbk = SelectKBest(score_func=chi2,k=\"all\")"
      ],
      "execution_count": 154,
      "outputs": []
    },
    {
      "cell_type": "code",
      "metadata": {
        "id": "a4LQPFbOCGJe",
        "colab_type": "code",
        "colab": {
          "base_uri": "https://localhost:8080/",
          "height": 34
        },
        "outputId": "6c895b52-041c-430e-ad93-db1bf1fbffb1"
      },
      "source": [
        "sbk.fit(cat_cols_x_,cat_cols_y_)"
      ],
      "execution_count": 155,
      "outputs": [
        {
          "output_type": "execute_result",
          "data": {
            "text/plain": [
              "SelectKBest(k='all', score_func=<function chi2 at 0x7f6edc1de0d0>)"
            ]
          },
          "metadata": {
            "tags": []
          },
          "execution_count": 155
        }
      ]
    },
    {
      "cell_type": "code",
      "metadata": {
        "id": "4dH-Wiq9CZcm",
        "colab_type": "code",
        "colab": {}
      },
      "source": [
        "scores = sbk.scores_"
      ],
      "execution_count": 156,
      "outputs": []
    },
    {
      "cell_type": "code",
      "metadata": {
        "id": "_MrTXDTOCfDZ",
        "colab_type": "code",
        "colab": {
          "base_uri": "https://localhost:8080/",
          "height": 284
        },
        "outputId": "c959866d-dcfe-46a3-f77c-44a8330b497c"
      },
      "source": [
        "scores_df = pd.DataFrame()\n",
        "scores_df[\"Columns\"] = cat_cols_x.columns.to_list()\n",
        "scores_df[\"Scores\"] = scores\n",
        "scores_df.sort_values('Scores',ascending=False).set_index('Columns')"
      ],
      "execution_count": 157,
      "outputs": [
        {
          "output_type": "execute_result",
          "data": {
            "text/html": [
              "<div>\n",
              "<style scoped>\n",
              "    .dataframe tbody tr th:only-of-type {\n",
              "        vertical-align: middle;\n",
              "    }\n",
              "\n",
              "    .dataframe tbody tr th {\n",
              "        vertical-align: top;\n",
              "    }\n",
              "\n",
              "    .dataframe thead th {\n",
              "        text-align: right;\n",
              "    }\n",
              "</style>\n",
              "<table border=\"1\" class=\"dataframe\">\n",
              "  <thead>\n",
              "    <tr style=\"text-align: right;\">\n",
              "      <th></th>\n",
              "      <th>Scores</th>\n",
              "    </tr>\n",
              "    <tr>\n",
              "      <th>Columns</th>\n",
              "      <th></th>\n",
              "    </tr>\n",
              "  </thead>\n",
              "  <tbody>\n",
              "    <tr>\n",
              "      <th>Credit_His</th>\n",
              "      <td>28.162521</td>\n",
              "    </tr>\n",
              "    <tr>\n",
              "      <th>Qual_var</th>\n",
              "      <td>3.740024</td>\n",
              "    </tr>\n",
              "    <tr>\n",
              "      <th>Marital_Status</th>\n",
              "      <td>1.980991</td>\n",
              "    </tr>\n",
              "    <tr>\n",
              "      <th>Prop_Area</th>\n",
              "      <td>0.301681</td>\n",
              "    </tr>\n",
              "    <tr>\n",
              "      <th>Sex</th>\n",
              "      <td>0.035887</td>\n",
              "    </tr>\n",
              "    <tr>\n",
              "      <th>SE</th>\n",
              "      <td>0.014844</td>\n",
              "    </tr>\n",
              "    <tr>\n",
              "      <th>Dependents</th>\n",
              "      <td>0.000290</td>\n",
              "    </tr>\n",
              "  </tbody>\n",
              "</table>\n",
              "</div>"
            ],
            "text/plain": [
              "                   Scores\n",
              "Columns                  \n",
              "Credit_His      28.162521\n",
              "Qual_var         3.740024\n",
              "Marital_Status   1.980991\n",
              "Prop_Area        0.301681\n",
              "Sex              0.035887\n",
              "SE               0.014844\n",
              "Dependents       0.000290"
            ]
          },
          "metadata": {
            "tags": []
          },
          "execution_count": 157
        }
      ]
    },
    {
      "cell_type": "code",
      "metadata": {
        "id": "rDtbXajaQKHd",
        "colab_type": "code",
        "colab": {
          "base_uri": "https://localhost:8080/",
          "height": 134
        },
        "outputId": "3506469e-9f5f-450b-c60e-76ff8d0a8109"
      },
      "source": [
        "scores_df.Columns.tolist()"
      ],
      "execution_count": 158,
      "outputs": [
        {
          "output_type": "execute_result",
          "data": {
            "text/plain": [
              "['Sex',\n",
              " 'Marital_Status',\n",
              " 'Qual_var',\n",
              " 'SE',\n",
              " 'Prop_Area',\n",
              " 'Dependents',\n",
              " 'Credit_His']"
            ]
          },
          "metadata": {
            "tags": []
          },
          "execution_count": 158
        }
      ]
    },
    {
      "cell_type": "code",
      "metadata": {
        "id": "Q1wfJcIUDe9S",
        "colab_type": "code",
        "colab": {}
      },
      "source": [
        "sbk1 = SelectKBest(score_func=mutual_info_classif,k=\"all\")"
      ],
      "execution_count": 159,
      "outputs": []
    },
    {
      "cell_type": "code",
      "metadata": {
        "id": "bixP6bJOFuYY",
        "colab_type": "code",
        "colab": {
          "base_uri": "https://localhost:8080/",
          "height": 284
        },
        "outputId": "6d9f2c77-6ee2-46cd-b872-e7beb2fc70e3"
      },
      "source": [
        "sbk1.fit(cat_cols_x_,cat_cols_y_)\n",
        "scores1 = sbk1.scores_\n",
        "scores_df1 = pd.DataFrame()\n",
        "scores_df1[\"Columns\"] = cat_cols_x.columns.to_list()\n",
        "scores_df1[\"Scores\"] = scores1\n",
        "scores_df1.sort_values('Scores',ascending=False).set_index('Columns')"
      ],
      "execution_count": 160,
      "outputs": [
        {
          "output_type": "execute_result",
          "data": {
            "text/html": [
              "<div>\n",
              "<style scoped>\n",
              "    .dataframe tbody tr th:only-of-type {\n",
              "        vertical-align: middle;\n",
              "    }\n",
              "\n",
              "    .dataframe tbody tr th {\n",
              "        vertical-align: top;\n",
              "    }\n",
              "\n",
              "    .dataframe thead th {\n",
              "        text-align: right;\n",
              "    }\n",
              "</style>\n",
              "<table border=\"1\" class=\"dataframe\">\n",
              "  <thead>\n",
              "    <tr style=\"text-align: right;\">\n",
              "      <th></th>\n",
              "      <th>Scores</th>\n",
              "    </tr>\n",
              "    <tr>\n",
              "      <th>Columns</th>\n",
              "      <th></th>\n",
              "    </tr>\n",
              "  </thead>\n",
              "  <tbody>\n",
              "    <tr>\n",
              "      <th>Credit_His</th>\n",
              "      <td>0.115920</td>\n",
              "    </tr>\n",
              "    <tr>\n",
              "      <th>Prop_Area</th>\n",
              "      <td>0.026972</td>\n",
              "    </tr>\n",
              "    <tr>\n",
              "      <th>Qual_var</th>\n",
              "      <td>0.015935</td>\n",
              "    </tr>\n",
              "    <tr>\n",
              "      <th>Dependents</th>\n",
              "      <td>0.008910</td>\n",
              "    </tr>\n",
              "    <tr>\n",
              "      <th>Marital_Status</th>\n",
              "      <td>0.004594</td>\n",
              "    </tr>\n",
              "    <tr>\n",
              "      <th>Sex</th>\n",
              "      <td>0.000000</td>\n",
              "    </tr>\n",
              "    <tr>\n",
              "      <th>SE</th>\n",
              "      <td>0.000000</td>\n",
              "    </tr>\n",
              "  </tbody>\n",
              "</table>\n",
              "</div>"
            ],
            "text/plain": [
              "                  Scores\n",
              "Columns                 \n",
              "Credit_His      0.115920\n",
              "Prop_Area       0.026972\n",
              "Qual_var        0.015935\n",
              "Dependents      0.008910\n",
              "Marital_Status  0.004594\n",
              "Sex             0.000000\n",
              "SE              0.000000"
            ]
          },
          "metadata": {
            "tags": []
          },
          "execution_count": 160
        }
      ]
    },
    {
      "cell_type": "code",
      "metadata": {
        "id": "O34SxzgxF2K3",
        "colab_type": "code",
        "colab": {}
      },
      "source": [
        "add_cat = ['Credit_His','Qual_var','Marital_Status','SE','Sex']"
      ],
      "execution_count": 161,
      "outputs": []
    },
    {
      "cell_type": "markdown",
      "metadata": {
        "id": "F0Ojf-0vGEtg",
        "colab_type": "text"
      },
      "source": [
        "## Numerical Data"
      ]
    },
    {
      "cell_type": "code",
      "metadata": {
        "id": "7QvIRnnvGK4P",
        "colab_type": "code",
        "colab": {}
      },
      "source": [
        "num_cols = train.select_dtypes(include=\"number\")\n",
        "num_cols = num_cols.drop([\"Credit_His\",\"Dependents\"],axis=1)"
      ],
      "execution_count": 162,
      "outputs": []
    },
    {
      "cell_type": "code",
      "metadata": {
        "id": "q4hX3163HRqh",
        "colab_type": "code",
        "colab": {}
      },
      "source": [
        "#num_cols"
      ],
      "execution_count": 163,
      "outputs": []
    },
    {
      "cell_type": "code",
      "metadata": {
        "id": "lYy159i7KQqB",
        "colab_type": "code",
        "colab": {
          "base_uri": "https://localhost:8080/",
          "height": 585
        },
        "outputId": "649588b4-481f-45e8-c2e7-776ba7bc5b28"
      },
      "source": [
        "num_cols.hist(figsize=(15,8))\n",
        "plt.tight_layout()\n",
        "plt.show()"
      ],
      "execution_count": 164,
      "outputs": [
        {
          "output_type": "display_data",
          "data": {
            "image/png": "[encoded data removed]",
            "text/plain": [
              "<Figure size 1080x576 with 4 Axes>"
            ]
          },
          "metadata": {
            "tags": []
          }
        }
      ]
    },
    {
      "cell_type": "code",
      "metadata": {
        "id": "a6FNcebgKQ9c",
        "colab_type": "code",
        "colab": {}
      },
      "source": [
        ""
      ],
      "execution_count": 164,
      "outputs": []
    },
    {
      "cell_type": "code",
      "metadata": {
        "id": "F9pel51iHVL_",
        "colab_type": "code",
        "colab": {}
      },
      "source": [
        "from sklearn.ensemble import RandomForestClassifier"
      ],
      "execution_count": 165,
      "outputs": []
    },
    {
      "cell_type": "code",
      "metadata": {
        "id": "SRuE6s0rIO_s",
        "colab_type": "code",
        "colab": {}
      },
      "source": [
        "rfc = RandomForestClassifier(n_estimators=300,random_state=3)"
      ],
      "execution_count": 166,
      "outputs": []
    },
    {
      "cell_type": "code",
      "metadata": {
        "id": "OMhHwIPFIT_A",
        "colab_type": "code",
        "colab": {
          "base_uri": "https://localhost:8080/",
          "height": 151
        },
        "outputId": "3ef4f149-e92c-4c7b-effe-046f5093d3b4"
      },
      "source": [
        "rfc.fit(num_cols,cat_cols_y_)"
      ],
      "execution_count": 167,
      "outputs": [
        {
          "output_type": "execute_result",
          "data": {
            "text/plain": [
              "RandomForestClassifier(bootstrap=True, ccp_alpha=0.0, class_weight=None,\n",
              "                       criterion='gini', max_depth=None, max_features='auto',\n",
              "                       max_leaf_nodes=None, max_samples=None,\n",
              "                       min_impurity_decrease=0.0, min_impurity_split=None,\n",
              "                       min_samples_leaf=1, min_samples_split=2,\n",
              "                       min_weight_fraction_leaf=0.0, n_estimators=300,\n",
              "                       n_jobs=None, oob_score=False, random_state=3, verbose=0,\n",
              "                       warm_start=False)"
            ]
          },
          "metadata": {
            "tags": []
          },
          "execution_count": 167
        }
      ]
    },
    {
      "cell_type": "code",
      "metadata": {
        "id": "DKtQPGZzIiPQ",
        "colab_type": "code",
        "colab": {
          "base_uri": "https://localhost:8080/",
          "height": 34
        },
        "outputId": "df800df0-aa99-4c42-867e-2f891d6326d2"
      },
      "source": [
        "importance = rfc.feature_importances_\n",
        "importance"
      ],
      "execution_count": 168,
      "outputs": [
        {
          "output_type": "execute_result",
          "data": {
            "text/plain": [
              "array([0.40885822, 0.20261337, 0.3189649 , 0.06956351])"
            ]
          },
          "metadata": {
            "tags": []
          },
          "execution_count": 168
        }
      ]
    },
    {
      "cell_type": "code",
      "metadata": {
        "id": "gnDQPvIZI1-l",
        "colab_type": "code",
        "colab": {}
      },
      "source": [
        "num_imp = pd.DataFrame({\"Columns\":num_cols.columns.to_list(),\"Importance_Score\":importance})"
      ],
      "execution_count": 169,
      "outputs": []
    },
    {
      "cell_type": "code",
      "metadata": {
        "id": "kSyvJQQeJKjQ",
        "colab_type": "code",
        "colab": {
          "base_uri": "https://localhost:8080/",
          "height": 195
        },
        "outputId": "061c70ab-fbc4-4568-c781-536a6552758f"
      },
      "source": [
        "num_imp.sort_values('Importance_Score',ascending=False).set_index('Columns')"
      ],
      "execution_count": 170,
      "outputs": [
        {
          "output_type": "execute_result",
          "data": {
            "text/html": [
              "<div>\n",
              "<style scoped>\n",
              "    .dataframe tbody tr th:only-of-type {\n",
              "        vertical-align: middle;\n",
              "    }\n",
              "\n",
              "    .dataframe tbody tr th {\n",
              "        vertical-align: top;\n",
              "    }\n",
              "\n",
              "    .dataframe thead th {\n",
              "        text-align: right;\n",
              "    }\n",
              "</style>\n",
              "<table border=\"1\" class=\"dataframe\">\n",
              "  <thead>\n",
              "    <tr style=\"text-align: right;\">\n",
              "      <th></th>\n",
              "      <th>Importance_Score</th>\n",
              "    </tr>\n",
              "    <tr>\n",
              "      <th>Columns</th>\n",
              "      <th></th>\n",
              "    </tr>\n",
              "  </thead>\n",
              "  <tbody>\n",
              "    <tr>\n",
              "      <th>App_Income_1</th>\n",
              "      <td>0.408858</td>\n",
              "    </tr>\n",
              "    <tr>\n",
              "      <th>CPL_Amount</th>\n",
              "      <td>0.318965</td>\n",
              "    </tr>\n",
              "    <tr>\n",
              "      <th>App_Income_2</th>\n",
              "      <td>0.202613</td>\n",
              "    </tr>\n",
              "    <tr>\n",
              "      <th>CPL_Term</th>\n",
              "      <td>0.069564</td>\n",
              "    </tr>\n",
              "  </tbody>\n",
              "</table>\n",
              "</div>"
            ],
            "text/plain": [
              "              Importance_Score\n",
              "Columns                       \n",
              "App_Income_1          0.408858\n",
              "CPL_Amount            0.318965\n",
              "App_Income_2          0.202613\n",
              "CPL_Term              0.069564"
            ]
          },
          "metadata": {
            "tags": []
          },
          "execution_count": 170
        }
      ]
    },
    {
      "cell_type": "code",
      "metadata": {
        "id": "2xe_BLREJMrP",
        "colab_type": "code",
        "colab": {}
      },
      "source": [
        "add_num = ['App_Income_1','CPL_Amount','App_Income_2']"
      ],
      "execution_count": 171,
      "outputs": []
    },
    {
      "cell_type": "markdown",
      "metadata": {
        "id": "dRrL-FBWKjzj",
        "colab_type": "text"
      },
      "source": [
        "## Overall"
      ]
    },
    {
      "cell_type": "code",
      "metadata": {
        "id": "vCgIB8AgKmzW",
        "colab_type": "code",
        "colab": {
          "base_uri": "https://localhost:8080/",
          "height": 34
        },
        "outputId": "13136c8c-bd64-4eb7-e46d-4e6089c259dd"
      },
      "source": [
        "print(cat_cols.columns,num_cols.columns)"
      ],
      "execution_count": 172,
      "outputs": [
        {
          "output_type": "stream",
          "text": [
            "Index(['Sex', 'Marital_Status', 'Qual_var', 'SE', 'Prop_Area', 'CPL_Status'], dtype='object') Index(['App_Income_1', 'App_Income_2', 'CPL_Amount', 'CPL_Term'], dtype='object')\n"
          ],
          "name": "stdout"
        }
      ]
    },
    {
      "cell_type": "code",
      "metadata": {
        "id": "zjES6bvdKmwV",
        "colab_type": "code",
        "colab": {
          "base_uri": "https://localhost:8080/",
          "height": 389
        },
        "outputId": "0d5a6de2-4e3f-4433-d9ac-054a237ba5fb"
      },
      "source": [
        "sns.catplot(x='Sex',y='CPL_Amount',hue='CPL_Status',data=train,height=5,aspect=1.5,kind='swarm')\n",
        "plt.title(\"Sex vs CPL_Amount wrt CPL_Status\",fontsize=20)\n",
        "plt.show()"
      ],
      "execution_count": 173,
      "outputs": [
        {
          "output_type": "display_data",
          "data": {
            "image/png": "[encoded data removed]",
            "text/plain": [
              "<Figure size 603.125x360 with 1 Axes>"
            ]
          },
          "metadata": {
            "tags": []
          }
        }
      ]
    },
    {
      "cell_type": "code",
      "metadata": {
        "id": "kHA3K965KmtY",
        "colab_type": "code",
        "colab": {
          "base_uri": "https://localhost:8080/",
          "height": 390
        },
        "outputId": "2039d084-bce4-44ef-afda-369e4e443db2"
      },
      "source": [
        "sns.catplot(x='Marital_Status',y='CPL_Amount',hue='CPL_Status',data=train,height=5,aspect=1.5,kind='swarm')\n",
        "plt.title(\"Marital_Status vs CPL_Amount wrt CPL_Status\",fontsize=20)\n",
        "plt.show()"
      ],
      "execution_count": 174,
      "outputs": [
        {
          "output_type": "display_data",
          "data": {
            "image/png": "[encoded data removed]",
            "text/plain": [
              "<Figure size 603.125x360 with 1 Axes>"
            ]
          },
          "metadata": {
            "tags": []
          }
        }
      ]
    },
    {
      "cell_type": "code",
      "metadata": {
        "id": "LjPGlcVsOrMu",
        "colab_type": "code",
        "colab": {
          "base_uri": "https://localhost:8080/",
          "height": 389
        },
        "outputId": "aa69f07d-2b8e-4388-9fd6-a42f42f26dec"
      },
      "source": [
        "sns.catplot(x='SE',y='CPL_Amount',hue='CPL_Status',data=train,height=5,aspect=1.5,kind='swarm')\n",
        "plt.title(\"SE vs CPL_Amount wrt CPL_Status\",fontsize=20)\n",
        "plt.show()"
      ],
      "execution_count": 175,
      "outputs": [
        {
          "output_type": "display_data",
          "data": {
            "image/png": "[encoded data removed]",
            "text/plain": [
              "<Figure size 603.125x360 with 1 Axes>"
            ]
          },
          "metadata": {
            "tags": []
          }
        }
      ]
    },
    {
      "cell_type": "code",
      "metadata": {
        "id": "aQx4FudrPXUW",
        "colab_type": "code",
        "colab": {
          "base_uri": "https://localhost:8080/",
          "height": 389
        },
        "outputId": "d1cce56a-84f6-4f26-cb9f-958cfd30e75d"
      },
      "source": [
        "sns.catplot(x='Sex',y='App_Income_1',hue='CPL_Status',data=train,height=5,aspect=1.5,kind='swarm')\n",
        "plt.title(\"Sex vs App_Income_1 wrt CPL_Status\",fontsize=20)\n",
        "plt.show()"
      ],
      "execution_count": 176,
      "outputs": [
        {
          "output_type": "display_data",
          "data": {
            "image/png": "[encoded data removed]",
            "text/plain": [
              "<Figure size 603.125x360 with 1 Axes>"
            ]
          },
          "metadata": {
            "tags": []
          }
        }
      ]
    },
    {
      "cell_type": "code",
      "metadata": {
        "id": "Gbo6Hl9WPXXa",
        "colab_type": "code",
        "colab": {
          "base_uri": "https://localhost:8080/",
          "height": 389
        },
        "outputId": "4f72ed6e-60bd-4471-dbf2-e3c37ee1e224"
      },
      "source": [
        "sns.catplot(x='Sex',y='App_Income_2',hue='CPL_Status',data=train,height=5,aspect=1.5,kind='swarm')\n",
        "plt.title(\"Sex vs App_Income_2 wrt CPL_Status\",fontsize=20)\n",
        "plt.show()"
      ],
      "execution_count": 177,
      "outputs": [
        {
          "output_type": "display_data",
          "data": {
            "image/png": "[encoded data removed]",
            "text/plain": [
              "<Figure size 603.125x360 with 1 Axes>"
            ]
          },
          "metadata": {
            "tags": []
          }
        }
      ]
    },
    {
      "cell_type": "code",
      "metadata": {
        "id": "_Iw5pRJeRlDr",
        "colab_type": "code",
        "colab": {
          "base_uri": "https://localhost:8080/",
          "height": 389
        },
        "outputId": "37f2c4dc-65c1-45c0-fbc1-1a1708640647"
      },
      "source": [
        "sns.catplot(x='SE',y='App_Income_1',hue='CPL_Status',data=train,height=5,aspect=1.5,kind='swarm')\n",
        "plt.title(\"SE vs App_Income_1 wrt CPL_Status\",fontsize=20)\n",
        "plt.show()"
      ],
      "execution_count": 178,
      "outputs": [
        {
          "output_type": "display_data",
          "data": {
            "image/png": "[encoded data removed]",
            "text/plain": [
              "<Figure size 603.125x360 with 1 Axes>"
            ]
          },
          "metadata": {
            "tags": []
          }
        }
      ]
    },
    {
      "cell_type": "code",
      "metadata": {
        "id": "OuRBnTs7RlGu",
        "colab_type": "code",
        "colab": {
          "base_uri": "https://localhost:8080/",
          "height": 389
        },
        "outputId": "26d4b241-8f4c-4f2a-979a-6e0a62b50444"
      },
      "source": [
        "sns.catplot(x='SE',y='App_Income_2',hue='CPL_Status',data=train,height=5,aspect=1.5,kind='swarm')\n",
        "plt.title(\"SE vs App_Income_2 wrt CPL_Status\",fontsize=20)\n",
        "plt.show()"
      ],
      "execution_count": 179,
      "outputs": [
        {
          "output_type": "display_data",
          "data": {
            "image/png": "[encoded data removed]",
            "text/plain": [
              "<Figure size 603.125x360 with 1 Axes>"
            ]
          },
          "metadata": {
            "tags": []
          }
        }
      ]
    },
    {
      "cell_type": "code",
      "metadata": {
        "id": "dGgznfiFR7mm",
        "colab_type": "code",
        "colab": {
          "base_uri": "https://localhost:8080/",
          "height": 390
        },
        "outputId": "3caeacc4-4880-4abf-c5d8-82d0e139a2d9"
      },
      "source": [
        "sns.catplot(x='Marital_Status',y='App_Income_2',hue='CPL_Status',data=train,height=5,aspect=1.5,kind='swarm')\n",
        "plt.title(\"Marital_Status vs App_Income_2 wrt CPL_Status\",fontsize=20)\n",
        "plt.show()"
      ],
      "execution_count": 47,
      "outputs": [
        {
          "output_type": "display_data",
          "data": {
            "image/png": "[encoded data removed]",
            "text/plain": [
              "<Figure size 603.125x360 with 1 Axes>"
            ]
          },
          "metadata": {
            "tags": []
          }
        }
      ]
    },
    {
      "cell_type": "code",
      "metadata": {
        "id": "xMKptpWtXaC7",
        "colab_type": "code",
        "colab": {}
      },
      "source": [
        ""
      ],
      "execution_count": null,
      "outputs": []
    },
    {
      "cell_type": "markdown",
      "metadata": {
        "id": "OueqPr9fN2YE",
        "colab_type": "text"
      },
      "source": [
        "# PREPARING DATA FOR MODELLING"
      ]
    },
    {
      "cell_type": "code",
      "metadata": {
        "id": "JK0_htp0PCqy",
        "colab_type": "code",
        "colab": {}
      },
      "source": [
        "from sklearn.preprocessing import LabelEncoder"
      ],
      "execution_count": 180,
      "outputs": []
    },
    {
      "cell_type": "code",
      "metadata": {
        "id": "Ox5nVfv8YwRN",
        "colab_type": "code",
        "colab": {
          "base_uri": "https://localhost:8080/",
          "height": 34
        },
        "outputId": "4e1959d3-2f72-4087-9c21-0a05035106a1"
      },
      "source": [
        "print(add_cat,add_num)"
      ],
      "execution_count": 181,
      "outputs": [
        {
          "output_type": "stream",
          "text": [
            "['Credit_His', 'Qual_var', 'Marital_Status', 'SE', 'Sex'] ['App_Income_1', 'CPL_Amount', 'App_Income_2']\n"
          ],
          "name": "stdout"
        }
      ]
    },
    {
      "cell_type": "code",
      "metadata": {
        "id": "PONFMLBibYNn",
        "colab_type": "code",
        "colab": {}
      },
      "source": [
        "new_train = train[['Credit_His', 'Qual_var', 'Marital_Status', 'SE', 'Sex','App_Income_1', 'CPL_Amount', 'App_Income_2','CPL_Status','Dependents']]"
      ],
      "execution_count": 182,
      "outputs": []
    },
    {
      "cell_type": "code",
      "metadata": {
        "id": "GlPuaEYIbc2G",
        "colab_type": "code",
        "colab": {
          "base_uri": "https://localhost:8080/",
          "height": 195
        },
        "outputId": "af51bf21-26c6-468d-c017-a3d508619a49"
      },
      "source": [
        "new_train.head()"
      ],
      "execution_count": 183,
      "outputs": [
        {
          "output_type": "execute_result",
          "data": {
            "text/html": [
              "<div>\n",
              "<style scoped>\n",
              "    .dataframe tbody tr th:only-of-type {\n",
              "        vertical-align: middle;\n",
              "    }\n",
              "\n",
              "    .dataframe tbody tr th {\n",
              "        vertical-align: top;\n",
              "    }\n",
              "\n",
              "    .dataframe thead th {\n",
              "        text-align: right;\n",
              "    }\n",
              "</style>\n",
              "<table border=\"1\" class=\"dataframe\">\n",
              "  <thead>\n",
              "    <tr style=\"text-align: right;\">\n",
              "      <th></th>\n",
              "      <th>Credit_His</th>\n",
              "      <th>Qual_var</th>\n",
              "      <th>Marital_Status</th>\n",
              "      <th>SE</th>\n",
              "      <th>Sex</th>\n",
              "      <th>App_Income_1</th>\n",
              "      <th>CPL_Amount</th>\n",
              "      <th>App_Income_2</th>\n",
              "      <th>CPL_Status</th>\n",
              "      <th>Dependents</th>\n",
              "    </tr>\n",
              "  </thead>\n",
              "  <tbody>\n",
              "    <tr>\n",
              "      <th>0</th>\n",
              "      <td>1.0</td>\n",
              "      <td>Grad</td>\n",
              "      <td>Y</td>\n",
              "      <td>N</td>\n",
              "      <td>M</td>\n",
              "      <td>5499.6</td>\n",
              "      <td>153.6</td>\n",
              "      <td>1809.6</td>\n",
              "      <td>N</td>\n",
              "      <td>1.0</td>\n",
              "    </tr>\n",
              "    <tr>\n",
              "      <th>1</th>\n",
              "      <td>1.0</td>\n",
              "      <td>Grad</td>\n",
              "      <td>Y</td>\n",
              "      <td>Y</td>\n",
              "      <td>M</td>\n",
              "      <td>3600.0</td>\n",
              "      <td>79.2</td>\n",
              "      <td>0.0</td>\n",
              "      <td>Y</td>\n",
              "      <td>0.0</td>\n",
              "    </tr>\n",
              "    <tr>\n",
              "      <th>2</th>\n",
              "      <td>1.0</td>\n",
              "      <td>Non Grad</td>\n",
              "      <td>Y</td>\n",
              "      <td>N</td>\n",
              "      <td>M</td>\n",
              "      <td>3099.6</td>\n",
              "      <td>144.0</td>\n",
              "      <td>2829.6</td>\n",
              "      <td>Y</td>\n",
              "      <td>0.0</td>\n",
              "    </tr>\n",
              "    <tr>\n",
              "      <th>3</th>\n",
              "      <td>1.0</td>\n",
              "      <td>Grad</td>\n",
              "      <td>N</td>\n",
              "      <td>N</td>\n",
              "      <td>M</td>\n",
              "      <td>7200.0</td>\n",
              "      <td>169.2</td>\n",
              "      <td>0.0</td>\n",
              "      <td>Y</td>\n",
              "      <td>0.0</td>\n",
              "    </tr>\n",
              "    <tr>\n",
              "      <th>4</th>\n",
              "      <td>1.0</td>\n",
              "      <td>Grad</td>\n",
              "      <td>Y</td>\n",
              "      <td>Y</td>\n",
              "      <td>M</td>\n",
              "      <td>6500.4</td>\n",
              "      <td>320.4</td>\n",
              "      <td>5035.2</td>\n",
              "      <td>Y</td>\n",
              "      <td>2.0</td>\n",
              "    </tr>\n",
              "  </tbody>\n",
              "</table>\n",
              "</div>"
            ],
            "text/plain": [
              "   Credit_His  Qual_var Marital_Status  ... App_Income_2 CPL_Status  Dependents\n",
              "0         1.0      Grad              Y  ...       1809.6          N         1.0\n",
              "1         1.0      Grad              Y  ...          0.0          Y         0.0\n",
              "2         1.0  Non Grad              Y  ...       2829.6          Y         0.0\n",
              "3         1.0      Grad              N  ...          0.0          Y         0.0\n",
              "4         1.0      Grad              Y  ...       5035.2          Y         2.0\n",
              "\n",
              "[5 rows x 10 columns]"
            ]
          },
          "metadata": {
            "tags": []
          },
          "execution_count": 183
        }
      ]
    },
    {
      "cell_type": "code",
      "metadata": {
        "id": "dEAPghuKdAWY",
        "colab_type": "code",
        "colab": {}
      },
      "source": [
        "le = LabelEncoder()\n",
        "le.fit(new_train['CPL_Status'])\n",
        "target = np.array(le.transform(new_train['CPL_Status']))\n",
        "new_train = new_train.drop('CPL_Status',axis=1)"
      ],
      "execution_count": 184,
      "outputs": []
    },
    {
      "cell_type": "code",
      "metadata": {
        "id": "LjiaBbYfbrD1",
        "colab_type": "code",
        "colab": {}
      },
      "source": [
        "d1 = pd.get_dummies(new_train['Qual_var'],drop_first=True,prefix='Qual_var')\n",
        "d2 = pd.get_dummies(new_train['SE'],drop_first=True,prefix='SE')\n",
        "d3 = pd.get_dummies(new_train['Sex'],drop_first=True,prefix='Sex')\n",
        "d4 = pd.get_dummies(new_train['Marital_Status'],drop_first=True,prefix='Marital_Status')"
      ],
      "execution_count": 185,
      "outputs": []
    },
    {
      "cell_type": "code",
      "metadata": {
        "id": "IPwc8dGVckwu",
        "colab_type": "code",
        "colab": {}
      },
      "source": [
        "new_train = pd.concat([new_train.drop(['SE','Sex','Marital_Status','Qual_var'],axis=1),d1,d2,d3,d4],axis=1)"
      ],
      "execution_count": 186,
      "outputs": []
    },
    {
      "cell_type": "code",
      "metadata": {
        "id": "kk0kxN8WdwG2",
        "colab_type": "code",
        "colab": {
          "base_uri": "https://localhost:8080/",
          "height": 195
        },
        "outputId": "e2518eae-2c53-48f3-fa6b-cfbe5243eed2"
      },
      "source": [
        "new_train.head()"
      ],
      "execution_count": 187,
      "outputs": [
        {
          "output_type": "execute_result",
          "data": {
            "text/html": [
              "<div>\n",
              "<style scoped>\n",
              "    .dataframe tbody tr th:only-of-type {\n",
              "        vertical-align: middle;\n",
              "    }\n",
              "\n",
              "    .dataframe tbody tr th {\n",
              "        vertical-align: top;\n",
              "    }\n",
              "\n",
              "    .dataframe thead th {\n",
              "        text-align: right;\n",
              "    }\n",
              "</style>\n",
              "<table border=\"1\" class=\"dataframe\">\n",
              "  <thead>\n",
              "    <tr style=\"text-align: right;\">\n",
              "      <th></th>\n",
              "      <th>Credit_His</th>\n",
              "      <th>App_Income_1</th>\n",
              "      <th>CPL_Amount</th>\n",
              "      <th>App_Income_2</th>\n",
              "      <th>Dependents</th>\n",
              "      <th>Qual_var_Non Grad</th>\n",
              "      <th>SE_Y</th>\n",
              "      <th>Sex_M</th>\n",
              "      <th>Marital_Status_Y</th>\n",
              "    </tr>\n",
              "  </thead>\n",
              "  <tbody>\n",
              "    <tr>\n",
              "      <th>0</th>\n",
              "      <td>1.0</td>\n",
              "      <td>5499.6</td>\n",
              "      <td>153.6</td>\n",
              "      <td>1809.6</td>\n",
              "      <td>1.0</td>\n",
              "      <td>0</td>\n",
              "      <td>0</td>\n",
              "      <td>1</td>\n",
              "      <td>1</td>\n",
              "    </tr>\n",
              "    <tr>\n",
              "      <th>1</th>\n",
              "      <td>1.0</td>\n",
              "      <td>3600.0</td>\n",
              "      <td>79.2</td>\n",
              "      <td>0.0</td>\n",
              "      <td>0.0</td>\n",
              "      <td>0</td>\n",
              "      <td>1</td>\n",
              "      <td>1</td>\n",
              "      <td>1</td>\n",
              "    </tr>\n",
              "    <tr>\n",
              "      <th>2</th>\n",
              "      <td>1.0</td>\n",
              "      <td>3099.6</td>\n",
              "      <td>144.0</td>\n",
              "      <td>2829.6</td>\n",
              "      <td>0.0</td>\n",
              "      <td>1</td>\n",
              "      <td>0</td>\n",
              "      <td>1</td>\n",
              "      <td>1</td>\n",
              "    </tr>\n",
              "    <tr>\n",
              "      <th>3</th>\n",
              "      <td>1.0</td>\n",
              "      <td>7200.0</td>\n",
              "      <td>169.2</td>\n",
              "      <td>0.0</td>\n",
              "      <td>0.0</td>\n",
              "      <td>0</td>\n",
              "      <td>0</td>\n",
              "      <td>1</td>\n",
              "      <td>0</td>\n",
              "    </tr>\n",
              "    <tr>\n",
              "      <th>4</th>\n",
              "      <td>1.0</td>\n",
              "      <td>6500.4</td>\n",
              "      <td>320.4</td>\n",
              "      <td>5035.2</td>\n",
              "      <td>2.0</td>\n",
              "      <td>0</td>\n",
              "      <td>1</td>\n",
              "      <td>1</td>\n",
              "      <td>1</td>\n",
              "    </tr>\n",
              "  </tbody>\n",
              "</table>\n",
              "</div>"
            ],
            "text/plain": [
              "   Credit_His  App_Income_1  CPL_Amount  ...  SE_Y  Sex_M  Marital_Status_Y\n",
              "0         1.0        5499.6       153.6  ...     0      1                 1\n",
              "1         1.0        3600.0        79.2  ...     1      1                 1\n",
              "2         1.0        3099.6       144.0  ...     0      1                 1\n",
              "3         1.0        7200.0       169.2  ...     0      1                 0\n",
              "4         1.0        6500.4       320.4  ...     1      1                 1\n",
              "\n",
              "[5 rows x 9 columns]"
            ]
          },
          "metadata": {
            "tags": []
          },
          "execution_count": 187
        }
      ]
    },
    {
      "cell_type": "code",
      "metadata": {
        "id": "o52OgCjvdyCt",
        "colab_type": "code",
        "colab": {}
      },
      "source": [
        "# pairplot = new_train.copy()\n",
        "# pairplot['target'] = target"
      ],
      "execution_count": 188,
      "outputs": []
    },
    {
      "cell_type": "code",
      "metadata": {
        "id": "1DOt2bdWeGiz",
        "colab_type": "code",
        "colab": {}
      },
      "source": [
        "#sns.pairplot(pairplot,hue='Sex_M')"
      ],
      "execution_count": 189,
      "outputs": []
    },
    {
      "cell_type": "markdown",
      "metadata": {
        "id": "CFrkst_yeUnd",
        "colab_type": "text"
      },
      "source": [
        "# MODELLING"
      ]
    },
    {
      "cell_type": "markdown",
      "metadata": {
        "id": "Q39g2GW9VC4q",
        "colab_type": "text"
      },
      "source": [
        "## RANDOM FOREST CLASSIFIER"
      ]
    },
    {
      "cell_type": "code",
      "metadata": {
        "id": "FGOfxs4peTcW",
        "colab_type": "code",
        "colab": {}
      },
      "source": [
        "from sklearn.tree import DecisionTreeClassifier\n",
        "from sklearn.model_selection import cross_val_score\n",
        "from sklearn.metrics import classification_report\n",
        "from sklearn.ensemble import RandomForestClassifier"
      ],
      "execution_count": 190,
      "outputs": []
    },
    {
      "cell_type": "code",
      "metadata": {
        "id": "F5njSRqJegtG",
        "colab_type": "code",
        "colab": {}
      },
      "source": [
        "rfc = RandomForestClassifier(n_estimators=300,random_state=3)"
      ],
      "execution_count": 191,
      "outputs": []
    },
    {
      "cell_type": "code",
      "metadata": {
        "id": "XnxbkCZ_em_P",
        "colab_type": "code",
        "colab": {
          "base_uri": "https://localhost:8080/",
          "height": 0
        },
        "outputId": "0a2ff6da-4ef8-4101-af83-d2c85375c22a"
      },
      "source": [
        "rfc.fit(new_train,target)"
      ],
      "execution_count": 192,
      "outputs": [
        {
          "output_type": "execute_result",
          "data": {
            "text/plain": [
              "RandomForestClassifier(bootstrap=True, ccp_alpha=0.0, class_weight=None,\n",
              "                       criterion='gini', max_depth=None, max_features='auto',\n",
              "                       max_leaf_nodes=None, max_samples=None,\n",
              "                       min_impurity_decrease=0.0, min_impurity_split=None,\n",
              "                       min_samples_leaf=1, min_samples_split=2,\n",
              "                       min_weight_fraction_leaf=0.0, n_estimators=300,\n",
              "                       n_jobs=None, oob_score=False, random_state=3, verbose=0,\n",
              "                       warm_start=False)"
            ]
          },
          "metadata": {
            "tags": []
          },
          "execution_count": 192
        }
      ]
    },
    {
      "cell_type": "code",
      "metadata": {
        "id": "0FjoXbxAepkW",
        "colab_type": "code",
        "colab": {}
      },
      "source": [
        "scores = cross_val_score(rfc,new_train,target,cv=9)"
      ],
      "execution_count": 193,
      "outputs": []
    },
    {
      "cell_type": "code",
      "metadata": {
        "id": "K02bSnfafR3H",
        "colab_type": "code",
        "colab": {
          "base_uri": "https://localhost:8080/",
          "height": 0
        },
        "outputId": "661b5adb-64fe-4cb7-950b-173677bc7f56"
      },
      "source": [
        "scores"
      ],
      "execution_count": 194,
      "outputs": [
        {
          "output_type": "execute_result",
          "data": {
            "text/plain": [
              "array([0.76470588, 0.77941176, 0.71641791, 0.76119403, 0.76119403,\n",
              "       0.8358209 , 0.76119403, 0.76119403, 0.80597015])"
            ]
          },
          "metadata": {
            "tags": []
          },
          "execution_count": 194
        }
      ]
    },
    {
      "cell_type": "code",
      "metadata": {
        "id": "awnqSri9jsrn",
        "colab_type": "code",
        "colab": {
          "base_uri": "https://localhost:8080/",
          "height": 0
        },
        "outputId": "71109c1c-4ec9-4287-e889-62df414f08c3"
      },
      "source": [
        "print(\"Maximum Accuracy: {:.2f}%\".format(max(scores)*100))\n",
        "print(\"Standard Deviation among accuracies: {:.4f}\".format(scores.std()))"
      ],
      "execution_count": 195,
      "outputs": [
        {
          "output_type": "stream",
          "text": [
            "Maximum Accuracy: 83.58%\n",
            "Standard Deviation among accuracies: 0.0314\n"
          ],
          "name": "stdout"
        }
      ]
    },
    {
      "cell_type": "markdown",
      "metadata": {
        "id": "J7oi2_TjVtVZ",
        "colab_type": "text"
      },
      "source": [
        "### Spliting into train_test\n"
      ]
    },
    {
      "cell_type": "code",
      "metadata": {
        "id": "50rZjOE3i5Ke",
        "colab_type": "code",
        "colab": {}
      },
      "source": [
        "x_train, x_test, y_train, y_test = train_test_split(new_train,target,test_size=0.25,stratify=target,random_state=3)"
      ],
      "execution_count": 196,
      "outputs": []
    },
    {
      "cell_type": "code",
      "metadata": {
        "id": "CUTkefTCfT_n",
        "colab_type": "code",
        "colab": {
          "base_uri": "https://localhost:8080/",
          "height": 0
        },
        "outputId": "069d0ea1-f928-41d1-c9f5-11f84dcf9171"
      },
      "source": [
        "rfc1 = RandomForestClassifier(n_estimators=300,random_state=3)\n",
        "rfc1.fit(x_train,y_train)\n",
        "y_pred = rfc1.predict(x_test)\n",
        "report = pd.DataFrame(classification_report(y_pred,y_test, output_dict=True)).transpose()\n",
        "report"
      ],
      "execution_count": 197,
      "outputs": [
        {
          "output_type": "execute_result",
          "data": {
            "text/html": [
              "<div>\n",
              "<style scoped>\n",
              "    .dataframe tbody tr th:only-of-type {\n",
              "        vertical-align: middle;\n",
              "    }\n",
              "\n",
              "    .dataframe tbody tr th {\n",
              "        vertical-align: top;\n",
              "    }\n",
              "\n",
              "    .dataframe thead th {\n",
              "        text-align: right;\n",
              "    }\n",
              "</style>\n",
              "<table border=\"1\" class=\"dataframe\">\n",
              "  <thead>\n",
              "    <tr style=\"text-align: right;\">\n",
              "      <th></th>\n",
              "      <th>precision</th>\n",
              "      <th>recall</th>\n",
              "      <th>f1-score</th>\n",
              "      <th>support</th>\n",
              "    </tr>\n",
              "  </thead>\n",
              "  <tbody>\n",
              "    <tr>\n",
              "      <th>0</th>\n",
              "      <td>0.500000</td>\n",
              "      <td>0.666667</td>\n",
              "      <td>0.571429</td>\n",
              "      <td>36.000000</td>\n",
              "    </tr>\n",
              "    <tr>\n",
              "      <th>1</th>\n",
              "      <td>0.884615</td>\n",
              "      <td>0.793103</td>\n",
              "      <td>0.836364</td>\n",
              "      <td>116.000000</td>\n",
              "    </tr>\n",
              "    <tr>\n",
              "      <th>accuracy</th>\n",
              "      <td>0.763158</td>\n",
              "      <td>0.763158</td>\n",
              "      <td>0.763158</td>\n",
              "      <td>0.763158</td>\n",
              "    </tr>\n",
              "    <tr>\n",
              "      <th>macro avg</th>\n",
              "      <td>0.692308</td>\n",
              "      <td>0.729885</td>\n",
              "      <td>0.703896</td>\n",
              "      <td>152.000000</td>\n",
              "    </tr>\n",
              "    <tr>\n",
              "      <th>weighted avg</th>\n",
              "      <td>0.793522</td>\n",
              "      <td>0.763158</td>\n",
              "      <td>0.773616</td>\n",
              "      <td>152.000000</td>\n",
              "    </tr>\n",
              "  </tbody>\n",
              "</table>\n",
              "</div>"
            ],
            "text/plain": [
              "              precision    recall  f1-score     support\n",
              "0              0.500000  0.666667  0.571429   36.000000\n",
              "1              0.884615  0.793103  0.836364  116.000000\n",
              "accuracy       0.763158  0.763158  0.763158    0.763158\n",
              "macro avg      0.692308  0.729885  0.703896  152.000000\n",
              "weighted avg   0.793522  0.763158  0.773616  152.000000"
            ]
          },
          "metadata": {
            "tags": []
          },
          "execution_count": 197
        }
      ]
    },
    {
      "cell_type": "markdown",
      "metadata": {
        "id": "iL2HOetYVH5o",
        "colab_type": "text"
      },
      "source": [
        "## ANN"
      ]
    },
    {
      "cell_type": "code",
      "metadata": {
        "id": "_3tlAlJ5VKSA",
        "colab_type": "code",
        "colab": {}
      },
      "source": [
        "# import tensorflow as tf\n",
        "# from sklearn.preprocessing import MinMaxScaler"
      ],
      "execution_count": 198,
      "outputs": []
    },
    {
      "cell_type": "code",
      "metadata": {
        "id": "MyUpN9SjWjxT",
        "colab_type": "code",
        "colab": {}
      },
      "source": [
        "from sklearn.preprocessing import MinMaxScaler\n",
        "def scaler(data):\n",
        "  scale = MinMaxScaler()\n",
        "  cols = data.columns.to_list()\n",
        "  temp = scale.fit_transform(data)\n",
        "  data = pd.DataFrame(temp,columns=cols)\n",
        "  return data"
      ],
      "execution_count": 199,
      "outputs": []
    },
    {
      "cell_type": "code",
      "metadata": {
        "id": "EjblOIbfXmB7",
        "colab_type": "code",
        "colab": {}
      },
      "source": [
        "data = scaler(new_train)"
      ],
      "execution_count": 200,
      "outputs": []
    },
    {
      "cell_type": "code",
      "metadata": {
        "id": "SSZWJRZsc9hd",
        "colab_type": "code",
        "colab": {}
      },
      "source": [
        "# from tensorflow.keras.optimizers import Adagrad\n",
        "# optimizer = Adagrad(lr=0.01)\n"
      ],
      "execution_count": 201,
      "outputs": []
    },
    {
      "cell_type": "code",
      "metadata": {
        "id": "iQsTL0SMVKVr",
        "colab_type": "code",
        "colab": {}
      },
      "source": [
        "# model = tf.keras.models.Sequential([\n",
        "#                                     tf.keras.layers.Dense(128,activation='relu',input_dim =9),\n",
        "#                                     tf.keras.layers.Dropout(0.2),\n",
        "#                                     tf.keras.layers.Dense(64,activation='relu'),\n",
        "#                                     tf.keras.layers.Dense(32,activation='relu'),\n",
        "#                                     tf.keras.layers.Dense(1,activation='sigmoid')\n",
        "# ])"
      ],
      "execution_count": 202,
      "outputs": []
    },
    {
      "cell_type": "code",
      "metadata": {
        "id": "XHbbv6ZoVKYv",
        "colab_type": "code",
        "colab": {}
      },
      "source": [
        "# model.compile(loss='binary_crossentropy',optimizer=optimizer,metrics=['accuracy'])"
      ],
      "execution_count": 203,
      "outputs": []
    },
    {
      "cell_type": "code",
      "metadata": {
        "id": "r4fKVWXhVKb9",
        "colab_type": "code",
        "colab": {}
      },
      "source": [
        "# model.fit(data,target,epochs=30,batch_size=5)"
      ],
      "execution_count": 204,
      "outputs": []
    },
    {
      "cell_type": "markdown",
      "metadata": {
        "id": "sNU7QQmWfWYc",
        "colab_type": "text"
      },
      "source": [
        "## DECISION TREE CLASSIFIER"
      ]
    },
    {
      "cell_type": "code",
      "metadata": {
        "id": "OZqQjS65fVd9",
        "colab_type": "code",
        "colab": {}
      },
      "source": [
        "from sklearn.tree import DecisionTreeClassifier"
      ],
      "execution_count": 205,
      "outputs": []
    },
    {
      "cell_type": "code",
      "metadata": {
        "id": "jdIGvN3nflak",
        "colab_type": "code",
        "colab": {}
      },
      "source": [
        "dtc = DecisionTreeClassifier()"
      ],
      "execution_count": 206,
      "outputs": []
    },
    {
      "cell_type": "code",
      "metadata": {
        "id": "VWOSG5slfljS",
        "colab_type": "code",
        "colab": {
          "base_uri": "https://localhost:8080/",
          "height": 0
        },
        "outputId": "b61a76da-6196-44e8-f822-68aad0f229bd"
      },
      "source": [
        "dtc.fit(new_train,target)"
      ],
      "execution_count": 207,
      "outputs": [
        {
          "output_type": "execute_result",
          "data": {
            "text/plain": [
              "DecisionTreeClassifier(ccp_alpha=0.0, class_weight=None, criterion='gini',\n",
              "                       max_depth=None, max_features=None, max_leaf_nodes=None,\n",
              "                       min_impurity_decrease=0.0, min_impurity_split=None,\n",
              "                       min_samples_leaf=1, min_samples_split=2,\n",
              "                       min_weight_fraction_leaf=0.0, presort='deprecated',\n",
              "                       random_state=None, splitter='best')"
            ]
          },
          "metadata": {
            "tags": []
          },
          "execution_count": 207
        }
      ]
    },
    {
      "cell_type": "code",
      "metadata": {
        "id": "iDf5AdUuflmq",
        "colab_type": "code",
        "colab": {}
      },
      "source": [
        "score_dtc = cross_val_score(dtc,new_train,target,cv=10)"
      ],
      "execution_count": 208,
      "outputs": []
    },
    {
      "cell_type": "code",
      "metadata": {
        "id": "MXRLhsVsflqU",
        "colab_type": "code",
        "colab": {
          "base_uri": "https://localhost:8080/",
          "height": 0
        },
        "outputId": "3ed07d9d-ecee-4f49-b482-072870edf8d8"
      },
      "source": [
        "score_dtc"
      ],
      "execution_count": 209,
      "outputs": [
        {
          "output_type": "execute_result",
          "data": {
            "text/plain": [
              "array([0.7704918 , 0.67213115, 0.68852459, 0.60655738, 0.70491803,\n",
              "       0.68333333, 0.71666667, 0.68333333, 0.63333333, 0.73333333])"
            ]
          },
          "metadata": {
            "tags": []
          },
          "execution_count": 209
        }
      ]
    },
    {
      "cell_type": "code",
      "metadata": {
        "id": "4L8HkXDKkKaH",
        "colab_type": "code",
        "colab": {
          "base_uri": "https://localhost:8080/",
          "height": 0
        },
        "outputId": "debd9bc4-8ec0-4aa6-d5b4-7bf263ccd77a"
      },
      "source": [
        "print(\"Maximum Accuracy: {:.2f}%\".format(max(score_dtc)*100))\n",
        "print(\"Standard Deviation among accuracies: {:.4f}\".format(score_dtc.std()))"
      ],
      "execution_count": 210,
      "outputs": [
        {
          "output_type": "stream",
          "text": [
            "Maximum Accuracy: 77.05%\n",
            "Standard Deviation among accuracies: 0.0446\n"
          ],
          "name": "stdout"
        }
      ]
    },
    {
      "cell_type": "markdown",
      "metadata": {
        "id": "tcClUUEZYiLi",
        "colab_type": "text"
      },
      "source": [
        "### Spliting into train_test"
      ]
    },
    {
      "cell_type": "code",
      "metadata": {
        "id": "k8G_7Gm2YWgp",
        "colab_type": "code",
        "colab": {
          "base_uri": "https://localhost:8080/",
          "height": 0
        },
        "outputId": "bc9cc658-4d46-49e4-bf9c-43e786c00ad9"
      },
      "source": [
        "dtc1 = DecisionTreeClassifier(random_state=3)\n",
        "dtc1.fit(x_train,y_train)\n",
        "y_pred = dtc1.predict(x_test)\n",
        "report = pd.DataFrame(classification_report(y_pred,y_test, output_dict=True)).transpose()\n",
        "report"
      ],
      "execution_count": 211,
      "outputs": [
        {
          "output_type": "execute_result",
          "data": {
            "text/html": [
              "<div>\n",
              "<style scoped>\n",
              "    .dataframe tbody tr th:only-of-type {\n",
              "        vertical-align: middle;\n",
              "    }\n",
              "\n",
              "    .dataframe tbody tr th {\n",
              "        vertical-align: top;\n",
              "    }\n",
              "\n",
              "    .dataframe thead th {\n",
              "        text-align: right;\n",
              "    }\n",
              "</style>\n",
              "<table border=\"1\" class=\"dataframe\">\n",
              "  <thead>\n",
              "    <tr style=\"text-align: right;\">\n",
              "      <th></th>\n",
              "      <th>precision</th>\n",
              "      <th>recall</th>\n",
              "      <th>f1-score</th>\n",
              "      <th>support</th>\n",
              "    </tr>\n",
              "  </thead>\n",
              "  <tbody>\n",
              "    <tr>\n",
              "      <th>0</th>\n",
              "      <td>0.541667</td>\n",
              "      <td>0.400000</td>\n",
              "      <td>0.460177</td>\n",
              "      <td>65.000000</td>\n",
              "    </tr>\n",
              "    <tr>\n",
              "      <th>1</th>\n",
              "      <td>0.625000</td>\n",
              "      <td>0.747126</td>\n",
              "      <td>0.680628</td>\n",
              "      <td>87.000000</td>\n",
              "    </tr>\n",
              "    <tr>\n",
              "      <th>accuracy</th>\n",
              "      <td>0.598684</td>\n",
              "      <td>0.598684</td>\n",
              "      <td>0.598684</td>\n",
              "      <td>0.598684</td>\n",
              "    </tr>\n",
              "    <tr>\n",
              "      <th>macro avg</th>\n",
              "      <td>0.583333</td>\n",
              "      <td>0.573563</td>\n",
              "      <td>0.570403</td>\n",
              "      <td>152.000000</td>\n",
              "    </tr>\n",
              "    <tr>\n",
              "      <th>weighted avg</th>\n",
              "      <td>0.589364</td>\n",
              "      <td>0.598684</td>\n",
              "      <td>0.586356</td>\n",
              "      <td>152.000000</td>\n",
              "    </tr>\n",
              "  </tbody>\n",
              "</table>\n",
              "</div>"
            ],
            "text/plain": [
              "              precision    recall  f1-score     support\n",
              "0              0.541667  0.400000  0.460177   65.000000\n",
              "1              0.625000  0.747126  0.680628   87.000000\n",
              "accuracy       0.598684  0.598684  0.598684    0.598684\n",
              "macro avg      0.583333  0.573563  0.570403  152.000000\n",
              "weighted avg   0.589364  0.598684  0.586356  152.000000"
            ]
          },
          "metadata": {
            "tags": []
          },
          "execution_count": 211
        }
      ]
    },
    {
      "cell_type": "markdown",
      "metadata": {
        "id": "yUlY2uApgCHO",
        "colab_type": "text"
      },
      "source": [
        "## SVM"
      ]
    },
    {
      "cell_type": "code",
      "metadata": {
        "id": "7cPrl1lmgEaU",
        "colab_type": "code",
        "colab": {}
      },
      "source": [
        "from sklearn import svm"
      ],
      "execution_count": 212,
      "outputs": []
    },
    {
      "cell_type": "code",
      "metadata": {
        "id": "obNpR_SjgEdd",
        "colab_type": "code",
        "colab": {}
      },
      "source": [
        "clf = svm.SVC()"
      ],
      "execution_count": 213,
      "outputs": []
    },
    {
      "cell_type": "code",
      "metadata": {
        "id": "MkI-1-8GQLjN",
        "colab_type": "code",
        "colab": {
          "base_uri": "https://localhost:8080/",
          "height": 84
        },
        "outputId": "f63c567a-b1ba-4d21-dcbc-612739414577"
      },
      "source": [
        "clf.fit(new_train,target)"
      ],
      "execution_count": 214,
      "outputs": [
        {
          "output_type": "execute_result",
          "data": {
            "text/plain": [
              "SVC(C=1.0, break_ties=False, cache_size=200, class_weight=None, coef0=0.0,\n",
              "    decision_function_shape='ovr', degree=3, gamma='scale', kernel='rbf',\n",
              "    max_iter=-1, probability=False, random_state=None, shrinking=True,\n",
              "    tol=0.001, verbose=False)"
            ]
          },
          "metadata": {
            "tags": []
          },
          "execution_count": 214
        }
      ]
    },
    {
      "cell_type": "code",
      "metadata": {
        "id": "Jh2SKP9xgEgg",
        "colab_type": "code",
        "colab": {}
      },
      "source": [
        "score_svm = cross_val_score(clf,data, target,cv=10)"
      ],
      "execution_count": 215,
      "outputs": []
    },
    {
      "cell_type": "code",
      "metadata": {
        "id": "WOYoYIHkgEjj",
        "colab_type": "code",
        "colab": {
          "base_uri": "https://localhost:8080/",
          "height": 50
        },
        "outputId": "b47fd840-219d-41af-a6d5-1fda485b13ef"
      },
      "source": [
        "score_svm"
      ],
      "execution_count": 216,
      "outputs": [
        {
          "output_type": "execute_result",
          "data": {
            "text/plain": [
              "array([0.81967213, 0.80327869, 0.7704918 , 0.75409836, 0.78688525,\n",
              "       0.78333333, 0.86666667, 0.85      , 0.81666667, 0.81666667])"
            ]
          },
          "metadata": {
            "tags": []
          },
          "execution_count": 216
        }
      ]
    },
    {
      "cell_type": "code",
      "metadata": {
        "id": "_WrLFeWSjHUN",
        "colab_type": "code",
        "colab": {
          "base_uri": "https://localhost:8080/",
          "height": 50
        },
        "outputId": "5f1ff50a-2816-4770-a8fb-9054b66981d4"
      },
      "source": [
        "print(\"Maximum Accuracy: {:.2f}%\".format(max(score_svm)*100))\n",
        "print(\"Standard Deviation among accuracies: {:.4f}\".format(score_svm.std()))"
      ],
      "execution_count": 217,
      "outputs": [
        {
          "output_type": "stream",
          "text": [
            "Maximum Accuracy: 86.67%\n",
            "Standard Deviation among accuracies: 0.0330\n"
          ],
          "name": "stdout"
        }
      ]
    },
    {
      "cell_type": "markdown",
      "metadata": {
        "id": "t5QUuHUpgkhw",
        "colab_type": "text"
      },
      "source": [
        "## LOGISTIC REGRESSION"
      ]
    },
    {
      "cell_type": "code",
      "metadata": {
        "id": "Y0yPEIt3gEl6",
        "colab_type": "code",
        "colab": {}
      },
      "source": [
        "from sklearn.linear_model import LogisticRegression"
      ],
      "execution_count": 218,
      "outputs": []
    },
    {
      "cell_type": "code",
      "metadata": {
        "id": "AvhxhBq2gqe0",
        "colab_type": "code",
        "colab": {}
      },
      "source": [
        "lr = LogisticRegression(max_iter=400)"
      ],
      "execution_count": 219,
      "outputs": []
    },
    {
      "cell_type": "code",
      "metadata": {
        "id": "9Aohj__5QGoW",
        "colab_type": "code",
        "colab": {
          "base_uri": "https://localhost:8080/",
          "height": 0
        },
        "outputId": "2bd45a62-2bd7-4deb-8d08-6656c25d273c"
      },
      "source": [
        "lr.fit(new_train,target)"
      ],
      "execution_count": 220,
      "outputs": [
        {
          "output_type": "execute_result",
          "data": {
            "text/plain": [
              "LogisticRegression(C=1.0, class_weight=None, dual=False, fit_intercept=True,\n",
              "                   intercept_scaling=1, l1_ratio=None, max_iter=400,\n",
              "                   multi_class='auto', n_jobs=None, penalty='l2',\n",
              "                   random_state=None, solver='lbfgs', tol=0.0001, verbose=0,\n",
              "                   warm_start=False)"
            ]
          },
          "metadata": {
            "tags": []
          },
          "execution_count": 220
        }
      ]
    },
    {
      "cell_type": "code",
      "metadata": {
        "id": "eObsSfC5gqhj",
        "colab_type": "code",
        "colab": {}
      },
      "source": [
        "score_lr = cross_val_score(lr,data,target,cv=10)"
      ],
      "execution_count": 221,
      "outputs": []
    },
    {
      "cell_type": "code",
      "metadata": {
        "id": "AlMfzfZDgqq7",
        "colab_type": "code",
        "colab": {
          "base_uri": "https://localhost:8080/",
          "height": 0
        },
        "outputId": "048675b5-f552-4c03-8f3b-2e4b1fb26434"
      },
      "source": [
        "score_lr"
      ],
      "execution_count": 222,
      "outputs": [
        {
          "output_type": "execute_result",
          "data": {
            "text/plain": [
              "array([0.81967213, 0.80327869, 0.7704918 , 0.75409836, 0.78688525,\n",
              "       0.78333333, 0.86666667, 0.85      , 0.81666667, 0.81666667])"
            ]
          },
          "metadata": {
            "tags": []
          },
          "execution_count": 222
        }
      ]
    },
    {
      "cell_type": "code",
      "metadata": {
        "id": "YfseC47YjC0d",
        "colab_type": "code",
        "colab": {
          "base_uri": "https://localhost:8080/",
          "height": 0
        },
        "outputId": "4e33a9c2-b0dc-44d3-e7a0-17b6120d9326"
      },
      "source": [
        "print(\"Maximum Accuracy: {:.2f}%\".format(max(score_lr)*100))\n",
        "print(\"Standard Deviation among accuracies: {:.4f}\".format(score_lr.std()))"
      ],
      "execution_count": 223,
      "outputs": [
        {
          "output_type": "stream",
          "text": [
            "Maximum Accuracy: 86.67%\n",
            "Standard Deviation among accuracies: 0.0330\n"
          ],
          "name": "stdout"
        }
      ]
    },
    {
      "cell_type": "markdown",
      "metadata": {
        "id": "W2DueAkGZYIn",
        "colab_type": "text"
      },
      "source": [
        "### Spliting into train_test"
      ]
    },
    {
      "cell_type": "code",
      "metadata": {
        "id": "chFDMrGyZOMx",
        "colab_type": "code",
        "colab": {
          "base_uri": "https://localhost:8080/",
          "height": 0
        },
        "outputId": "ba0a186d-20e1-40e9-8859-b939e31b6687"
      },
      "source": [
        "lr1 = LogisticRegression()\n",
        "lr1.fit(x_train,y_train)\n",
        "y_pred = lr1.predict(x_test)\n",
        "report = pd.DataFrame(classification_report(y_pred,y_test, output_dict=True)).transpose()\n",
        "report"
      ],
      "execution_count": 224,
      "outputs": [
        {
          "output_type": "execute_result",
          "data": {
            "text/html": [
              "<div>\n",
              "<style scoped>\n",
              "    .dataframe tbody tr th:only-of-type {\n",
              "        vertical-align: middle;\n",
              "    }\n",
              "\n",
              "    .dataframe tbody tr th {\n",
              "        vertical-align: top;\n",
              "    }\n",
              "\n",
              "    .dataframe thead th {\n",
              "        text-align: right;\n",
              "    }\n",
              "</style>\n",
              "<table border=\"1\" class=\"dataframe\">\n",
              "  <thead>\n",
              "    <tr style=\"text-align: right;\">\n",
              "      <th></th>\n",
              "      <th>precision</th>\n",
              "      <th>recall</th>\n",
              "      <th>f1-score</th>\n",
              "      <th>support</th>\n",
              "    </tr>\n",
              "  </thead>\n",
              "  <tbody>\n",
              "    <tr>\n",
              "      <th>0</th>\n",
              "      <td>0.458333</td>\n",
              "      <td>0.880000</td>\n",
              "      <td>0.602740</td>\n",
              "      <td>25.000000</td>\n",
              "    </tr>\n",
              "    <tr>\n",
              "      <th>1</th>\n",
              "      <td>0.971154</td>\n",
              "      <td>0.795276</td>\n",
              "      <td>0.874459</td>\n",
              "      <td>127.000000</td>\n",
              "    </tr>\n",
              "    <tr>\n",
              "      <th>accuracy</th>\n",
              "      <td>0.809211</td>\n",
              "      <td>0.809211</td>\n",
              "      <td>0.809211</td>\n",
              "      <td>0.809211</td>\n",
              "    </tr>\n",
              "    <tr>\n",
              "      <th>macro avg</th>\n",
              "      <td>0.714744</td>\n",
              "      <td>0.837638</td>\n",
              "      <td>0.738599</td>\n",
              "      <td>152.000000</td>\n",
              "    </tr>\n",
              "    <tr>\n",
              "      <th>weighted avg</th>\n",
              "      <td>0.886808</td>\n",
              "      <td>0.809211</td>\n",
              "      <td>0.829768</td>\n",
              "      <td>152.000000</td>\n",
              "    </tr>\n",
              "  </tbody>\n",
              "</table>\n",
              "</div>"
            ],
            "text/plain": [
              "              precision    recall  f1-score     support\n",
              "0              0.458333  0.880000  0.602740   25.000000\n",
              "1              0.971154  0.795276  0.874459  127.000000\n",
              "accuracy       0.809211  0.809211  0.809211    0.809211\n",
              "macro avg      0.714744  0.837638  0.738599  152.000000\n",
              "weighted avg   0.886808  0.809211  0.829768  152.000000"
            ]
          },
          "metadata": {
            "tags": []
          },
          "execution_count": 224
        }
      ]
    },
    {
      "cell_type": "markdown",
      "metadata": {
        "id": "1rl-XM_dxIcn",
        "colab_type": "text"
      },
      "source": [
        "## ADABOOST CLASSIFIER"
      ]
    },
    {
      "cell_type": "code",
      "metadata": {
        "id": "yfAS88daxR1Z",
        "colab_type": "code",
        "colab": {}
      },
      "source": [
        "from sklearn.ensemble import AdaBoostClassifier"
      ],
      "execution_count": 225,
      "outputs": []
    },
    {
      "cell_type": "code",
      "metadata": {
        "id": "BF21dzOBySQ7",
        "colab_type": "code",
        "colab": {}
      },
      "source": [
        "clf_ada = AdaBoostClassifier()"
      ],
      "execution_count": 226,
      "outputs": []
    },
    {
      "cell_type": "code",
      "metadata": {
        "id": "Te7k5S-7yiTZ",
        "colab_type": "code",
        "colab": {
          "base_uri": "https://localhost:8080/",
          "height": 50
        },
        "outputId": "448f063b-d2ad-4ed5-9046-d0b172a1f9b6"
      },
      "source": [
        "clf_ada.fit(x_train,y_train)"
      ],
      "execution_count": 227,
      "outputs": [
        {
          "output_type": "execute_result",
          "data": {
            "text/plain": [
              "AdaBoostClassifier(algorithm='SAMME.R', base_estimator=None, learning_rate=1.0,\n",
              "                   n_estimators=50, random_state=None)"
            ]
          },
          "metadata": {
            "tags": []
          },
          "execution_count": 227
        }
      ]
    },
    {
      "cell_type": "code",
      "metadata": {
        "id": "BWRaORXGzOtD",
        "colab_type": "code",
        "colab": {}
      },
      "source": [
        "score_ada = cross_val_score(clf_ada,new_train,target,cv=10)"
      ],
      "execution_count": 228,
      "outputs": []
    },
    {
      "cell_type": "code",
      "metadata": {
        "id": "PwSaUvFrzO8d",
        "colab_type": "code",
        "colab": {
          "base_uri": "https://localhost:8080/",
          "height": 50
        },
        "outputId": "6d4145ad-8784-4308-bd0d-2a433d322b1f"
      },
      "source": [
        "score_ada"
      ],
      "execution_count": 229,
      "outputs": [
        {
          "output_type": "execute_result",
          "data": {
            "text/plain": [
              "array([0.83606557, 0.78688525, 0.73770492, 0.75409836, 0.7704918 ,\n",
              "       0.78333333, 0.8       , 0.81666667, 0.73333333, 0.78333333])"
            ]
          },
          "metadata": {
            "tags": []
          },
          "execution_count": 229
        }
      ]
    },
    {
      "cell_type": "code",
      "metadata": {
        "id": "LhIIPUkQ0WZL",
        "colab_type": "code",
        "colab": {
          "base_uri": "https://localhost:8080/",
          "height": 50
        },
        "outputId": "75a7c79f-fbdc-4835-be6d-dee69825df87"
      },
      "source": [
        "print(\"Maximum Accuracy: {:.2f}%\".format(max(score_ada)*100))\n",
        "print(\"Standard Deviation among accuracies: {:.4f}\".format(score_ada.std()))"
      ],
      "execution_count": 230,
      "outputs": [
        {
          "output_type": "stream",
          "text": [
            "Maximum Accuracy: 83.61%\n",
            "Standard Deviation among accuracies: 0.0311\n"
          ],
          "name": "stdout"
        }
      ]
    },
    {
      "cell_type": "code",
      "metadata": {
        "id": "9NxZfSttyiYk",
        "colab_type": "code",
        "colab": {}
      },
      "source": [
        "y_pred = clf_ada.predict(x_test)"
      ],
      "execution_count": 231,
      "outputs": []
    },
    {
      "cell_type": "code",
      "metadata": {
        "id": "AONrl_ray9jT",
        "colab_type": "code",
        "colab": {
          "base_uri": "https://localhost:8080/",
          "height": 168
        },
        "outputId": "233aeac0-b364-4bd5-b81d-e95fc1e72edf"
      },
      "source": [
        "print(classification_report(y_pred,y_test))"
      ],
      "execution_count": 232,
      "outputs": [
        {
          "output_type": "stream",
          "text": [
            "              precision    recall  f1-score   support\n",
            "\n",
            "           0       0.48      0.77      0.59        30\n",
            "           1       0.93      0.80      0.86       122\n",
            "\n",
            "    accuracy                           0.79       152\n",
            "   macro avg       0.71      0.78      0.72       152\n",
            "weighted avg       0.84      0.79      0.81       152\n",
            "\n"
          ],
          "name": "stdout"
        }
      ]
    },
    {
      "cell_type": "markdown",
      "metadata": {
        "id": "B7rqdDLffdIw",
        "colab_type": "text"
      },
      "source": [
        "# PREPARING TEST DATA"
      ]
    },
    {
      "cell_type": "code",
      "metadata": {
        "id": "OVYllzINgMa_",
        "colab_type": "code",
        "colab": {}
      },
      "source": [
        "test = test[['Credit_His', 'Qual_var', 'Marital_Status', 'SE', 'Sex','App_Income_1', 'CPL_Amount', 'App_Income_2', 'Dependents']]"
      ],
      "execution_count": 233,
      "outputs": []
    },
    {
      "cell_type": "code",
      "metadata": {
        "id": "KvtiZN7ugSbn",
        "colab_type": "code",
        "colab": {}
      },
      "source": [
        "test=test.fillna(method='ffill')"
      ],
      "execution_count": 234,
      "outputs": []
    },
    {
      "cell_type": "code",
      "metadata": {
        "id": "fDT8VJeNh63K",
        "colab_type": "code",
        "colab": {}
      },
      "source": [
        "td1 = pd.get_dummies(test['Qual_var'],drop_first=True,prefix='Qual_var')\n",
        "td2 = pd.get_dummies(test['SE'],drop_first=True,prefix='SE')\n",
        "td3 = pd.get_dummies(test['Sex'],drop_first=True,prefix='Sex')\n",
        "td4 = pd.get_dummies(test['Marital_Status'],drop_first=True,prefix='Marital_Status')"
      ],
      "execution_count": 235,
      "outputs": []
    },
    {
      "cell_type": "code",
      "metadata": {
        "id": "NvlV2ikuieK4",
        "colab_type": "code",
        "colab": {}
      },
      "source": [
        "new_test = pd.concat([test.drop(['SE','Sex','Marital_Status','Qual_var'],axis=1),td1,td2,td3,td4],axis=1)"
      ],
      "execution_count": 236,
      "outputs": []
    },
    {
      "cell_type": "code",
      "metadata": {
        "id": "93SjYdACilpQ",
        "colab_type": "code",
        "colab": {
          "base_uri": "https://localhost:8080/",
          "height": 195
        },
        "outputId": "44b05a5b-2299-4d9a-c18b-e632cbd5a961"
      },
      "source": [
        "new_test.head()"
      ],
      "execution_count": 237,
      "outputs": [
        {
          "output_type": "execute_result",
          "data": {
            "text/html": [
              "<div>\n",
              "<style scoped>\n",
              "    .dataframe tbody tr th:only-of-type {\n",
              "        vertical-align: middle;\n",
              "    }\n",
              "\n",
              "    .dataframe tbody tr th {\n",
              "        vertical-align: top;\n",
              "    }\n",
              "\n",
              "    .dataframe thead th {\n",
              "        text-align: right;\n",
              "    }\n",
              "</style>\n",
              "<table border=\"1\" class=\"dataframe\">\n",
              "  <thead>\n",
              "    <tr style=\"text-align: right;\">\n",
              "      <th></th>\n",
              "      <th>Credit_His</th>\n",
              "      <th>App_Income_1</th>\n",
              "      <th>CPL_Amount</th>\n",
              "      <th>App_Income_2</th>\n",
              "      <th>Dependents</th>\n",
              "      <th>Qual_var_Non Grad</th>\n",
              "      <th>SE_Y</th>\n",
              "      <th>Sex_M</th>\n",
              "      <th>Marital_Status_Y</th>\n",
              "    </tr>\n",
              "  </thead>\n",
              "  <tbody>\n",
              "    <tr>\n",
              "      <th>0</th>\n",
              "      <td>1.0</td>\n",
              "      <td>6864.0</td>\n",
              "      <td>132.0</td>\n",
              "      <td>0.0</td>\n",
              "      <td>0</td>\n",
              "      <td>0</td>\n",
              "      <td>0</td>\n",
              "      <td>1</td>\n",
              "      <td>1</td>\n",
              "    </tr>\n",
              "    <tr>\n",
              "      <th>1</th>\n",
              "      <td>1.0</td>\n",
              "      <td>3691.2</td>\n",
              "      <td>151.2</td>\n",
              "      <td>1800.0</td>\n",
              "      <td>1</td>\n",
              "      <td>0</td>\n",
              "      <td>0</td>\n",
              "      <td>1</td>\n",
              "      <td>1</td>\n",
              "    </tr>\n",
              "    <tr>\n",
              "      <th>2</th>\n",
              "      <td>1.0</td>\n",
              "      <td>6000.0</td>\n",
              "      <td>249.6</td>\n",
              "      <td>2160.0</td>\n",
              "      <td>2</td>\n",
              "      <td>0</td>\n",
              "      <td>0</td>\n",
              "      <td>1</td>\n",
              "      <td>1</td>\n",
              "    </tr>\n",
              "    <tr>\n",
              "      <th>3</th>\n",
              "      <td>1.0</td>\n",
              "      <td>2808.0</td>\n",
              "      <td>120.0</td>\n",
              "      <td>3055.2</td>\n",
              "      <td>2</td>\n",
              "      <td>0</td>\n",
              "      <td>0</td>\n",
              "      <td>1</td>\n",
              "      <td>1</td>\n",
              "    </tr>\n",
              "    <tr>\n",
              "      <th>4</th>\n",
              "      <td>1.0</td>\n",
              "      <td>3931.2</td>\n",
              "      <td>93.6</td>\n",
              "      <td>0.0</td>\n",
              "      <td>0</td>\n",
              "      <td>1</td>\n",
              "      <td>0</td>\n",
              "      <td>1</td>\n",
              "      <td>0</td>\n",
              "    </tr>\n",
              "  </tbody>\n",
              "</table>\n",
              "</div>"
            ],
            "text/plain": [
              "   Credit_His  App_Income_1  CPL_Amount  ...  SE_Y Sex_M  Marital_Status_Y\n",
              "0         1.0        6864.0       132.0  ...     0     1                 1\n",
              "1         1.0        3691.2       151.2  ...     0     1                 1\n",
              "2         1.0        6000.0       249.6  ...     0     1                 1\n",
              "3         1.0        2808.0       120.0  ...     0     1                 1\n",
              "4         1.0        3931.2        93.6  ...     0     1                 0\n",
              "\n",
              "[5 rows x 9 columns]"
            ]
          },
          "metadata": {
            "tags": []
          },
          "execution_count": 237
        }
      ]
    },
    {
      "cell_type": "code",
      "metadata": {
        "id": "vgSRtAvJingv",
        "colab_type": "code",
        "colab": {}
      },
      "source": [
        ""
      ],
      "execution_count": null,
      "outputs": []
    },
    {
      "cell_type": "markdown",
      "metadata": {
        "id": "adOiwNDJiqU1",
        "colab_type": "text"
      },
      "source": [
        "# TEST DATA PREDICTION"
      ]
    },
    {
      "cell_type": "code",
      "metadata": {
        "id": "ivi4wCl_isnH",
        "colab_type": "code",
        "colab": {}
      },
      "source": [
        "predict_rfc = rfc.predict(new_test)\n",
        "predict_dtc = dtc.predict(new_test)\n",
        "predict_svm = clf.predict(new_test)\n",
        "predict_lr = lr.predict(new_test)\n",
        "predict_ada = clf_ada.predict(new_test)"
      ],
      "execution_count": 238,
      "outputs": []
    },
    {
      "cell_type": "code",
      "metadata": {
        "id": "regBIsDjPcag",
        "colab_type": "code",
        "colab": {}
      },
      "source": [
        "predict_ada = clf_ada.predict(new_test)\n",
        "results = pd.DataFrame({\"Random_Forest\":predict_rfc,\"Decision_Tree\":predict_dtc,\"SVM\":predict_svm,\"Logistic_Regression\":predict_lr, \"AdaBoost\":predict_ada})"
      ],
      "execution_count": 239,
      "outputs": []
    },
    {
      "cell_type": "code",
      "metadata": {
        "id": "TwKQcB9SP5p8",
        "colab_type": "code",
        "colab": {}
      },
      "source": [
        "# results"
      ],
      "execution_count": 240,
      "outputs": []
    },
    {
      "cell_type": "code",
      "metadata": {
        "id": "1ttIxkG5bwoZ",
        "colab_type": "code",
        "colab": {}
      },
      "source": [
        "final = get_majority(results)"
      ],
      "execution_count": 243,
      "outputs": []
    },
    {
      "cell_type": "code",
      "metadata": {
        "id": "90M3GL7ub7pp",
        "colab_type": "code",
        "colab": {}
      },
      "source": [
        "results['Final_Verdict'] = final"
      ],
      "execution_count": 244,
      "outputs": []
    },
    {
      "cell_type": "code",
      "metadata": {
        "id": "6txmBEg9cDUo",
        "colab_type": "code",
        "colab": {}
      },
      "source": [
        "# results.Final_Verdict.value_counts()"
      ],
      "execution_count": 245,
      "outputs": []
    },
    {
      "cell_type": "code",
      "metadata": {
        "id": "HfweG_qZd5Al",
        "colab_type": "code",
        "colab": {
          "base_uri": "https://localhost:8080/",
          "height": 402
        },
        "outputId": "8ffad49d-7b16-4da7-99c3-b1b88daf8dc8"
      },
      "source": [
        "results"
      ],
      "execution_count": 246,
      "outputs": [
        {
          "output_type": "execute_result",
          "data": {
            "text/html": [
              "<div>\n",
              "<style scoped>\n",
              "    .dataframe tbody tr th:only-of-type {\n",
              "        vertical-align: middle;\n",
              "    }\n",
              "\n",
              "    .dataframe tbody tr th {\n",
              "        vertical-align: top;\n",
              "    }\n",
              "\n",
              "    .dataframe thead th {\n",
              "        text-align: right;\n",
              "    }\n",
              "</style>\n",
              "<table border=\"1\" class=\"dataframe\">\n",
              "  <thead>\n",
              "    <tr style=\"text-align: right;\">\n",
              "      <th></th>\n",
              "      <th>Random_Forest</th>\n",
              "      <th>Decision_Tree</th>\n",
              "      <th>SVM</th>\n",
              "      <th>Logistic_Regression</th>\n",
              "      <th>AdaBoost</th>\n",
              "      <th>Final_Verdict</th>\n",
              "    </tr>\n",
              "  </thead>\n",
              "  <tbody>\n",
              "    <tr>\n",
              "      <th>0</th>\n",
              "      <td>1</td>\n",
              "      <td>0</td>\n",
              "      <td>1</td>\n",
              "      <td>1</td>\n",
              "      <td>1</td>\n",
              "      <td>Y</td>\n",
              "    </tr>\n",
              "    <tr>\n",
              "      <th>1</th>\n",
              "      <td>1</td>\n",
              "      <td>1</td>\n",
              "      <td>1</td>\n",
              "      <td>1</td>\n",
              "      <td>1</td>\n",
              "      <td>Y</td>\n",
              "    </tr>\n",
              "    <tr>\n",
              "      <th>2</th>\n",
              "      <td>1</td>\n",
              "      <td>1</td>\n",
              "      <td>1</td>\n",
              "      <td>1</td>\n",
              "      <td>1</td>\n",
              "      <td>Y</td>\n",
              "    </tr>\n",
              "    <tr>\n",
              "      <th>3</th>\n",
              "      <td>1</td>\n",
              "      <td>1</td>\n",
              "      <td>1</td>\n",
              "      <td>1</td>\n",
              "      <td>1</td>\n",
              "      <td>Y</td>\n",
              "    </tr>\n",
              "    <tr>\n",
              "      <th>4</th>\n",
              "      <td>0</td>\n",
              "      <td>0</td>\n",
              "      <td>1</td>\n",
              "      <td>1</td>\n",
              "      <td>1</td>\n",
              "      <td>Y</td>\n",
              "    </tr>\n",
              "    <tr>\n",
              "      <th>...</th>\n",
              "      <td>...</td>\n",
              "      <td>...</td>\n",
              "      <td>...</td>\n",
              "      <td>...</td>\n",
              "      <td>...</td>\n",
              "      <td>...</td>\n",
              "    </tr>\n",
              "    <tr>\n",
              "      <th>362</th>\n",
              "      <td>1</td>\n",
              "      <td>1</td>\n",
              "      <td>1</td>\n",
              "      <td>1</td>\n",
              "      <td>1</td>\n",
              "      <td>Y</td>\n",
              "    </tr>\n",
              "    <tr>\n",
              "      <th>363</th>\n",
              "      <td>1</td>\n",
              "      <td>1</td>\n",
              "      <td>1</td>\n",
              "      <td>1</td>\n",
              "      <td>1</td>\n",
              "      <td>Y</td>\n",
              "    </tr>\n",
              "    <tr>\n",
              "      <th>364</th>\n",
              "      <td>1</td>\n",
              "      <td>1</td>\n",
              "      <td>1</td>\n",
              "      <td>1</td>\n",
              "      <td>1</td>\n",
              "      <td>Y</td>\n",
              "    </tr>\n",
              "    <tr>\n",
              "      <th>365</th>\n",
              "      <td>1</td>\n",
              "      <td>1</td>\n",
              "      <td>1</td>\n",
              "      <td>1</td>\n",
              "      <td>1</td>\n",
              "      <td>Y</td>\n",
              "    </tr>\n",
              "    <tr>\n",
              "      <th>366</th>\n",
              "      <td>1</td>\n",
              "      <td>1</td>\n",
              "      <td>1</td>\n",
              "      <td>1</td>\n",
              "      <td>1</td>\n",
              "      <td>Y</td>\n",
              "    </tr>\n",
              "  </tbody>\n",
              "</table>\n",
              "<p>367 rows × 6 columns</p>\n",
              "</div>"
            ],
            "text/plain": [
              "     Random_Forest  Decision_Tree  ...  AdaBoost  Final_Verdict\n",
              "0                1              0  ...         1              Y\n",
              "1                1              1  ...         1              Y\n",
              "2                1              1  ...         1              Y\n",
              "3                1              1  ...         1              Y\n",
              "4                0              0  ...         1              Y\n",
              "..             ...            ...  ...       ...            ...\n",
              "362              1              1  ...         1              Y\n",
              "363              1              1  ...         1              Y\n",
              "364              1              1  ...         1              Y\n",
              "365              1              1  ...         1              Y\n",
              "366              1              1  ...         1              Y\n",
              "\n",
              "[367 rows x 6 columns]"
            ]
          },
          "metadata": {
            "tags": []
          },
          "execution_count": 246
        }
      ]
    },
    {
      "cell_type": "code",
      "metadata": {
        "id": "yyRPzJ20d65g",
        "colab_type": "code",
        "colab": {
          "base_uri": "https://localhost:8080/",
          "height": 67
        },
        "outputId": "c7890824-ed05-4f2a-99e5-013adf6c6296"
      },
      "source": [
        "results.Final_Verdict.value_counts()"
      ],
      "execution_count": 247,
      "outputs": [
        {
          "output_type": "execute_result",
          "data": {
            "text/plain": [
              "Y    304\n",
              "N     63\n",
              "Name: Final_Verdict, dtype: int64"
            ]
          },
          "metadata": {
            "tags": []
          },
          "execution_count": 247
        }
      ]
    },
    {
      "cell_type": "markdown",
      "metadata": {
        "id": "s9B07xfQP1JG",
        "colab_type": "text"
      },
      "source": [
        "The final Verdict shows the possible decision the bank should be taking."
      ]
    },
    {
      "cell_type": "code",
      "metadata": {
        "id": "On3rLVoO1mHa",
        "colab_type": "code",
        "colab": {}
      },
      "source": [
        "test_prediction = orig_test.copy()"
      ],
      "execution_count": 249,
      "outputs": []
    },
    {
      "cell_type": "code",
      "metadata": {
        "id": "F8_MGtb8dPYj",
        "colab_type": "code",
        "colab": {}
      },
      "source": [
        "test_prediction['Predicted_CPL_Status'] = results['Final_Verdict']"
      ],
      "execution_count": 251,
      "outputs": []
    },
    {
      "cell_type": "code",
      "metadata": {
        "id": "jxKOitXOdZrp",
        "colab_type": "code",
        "colab": {}
      },
      "source": [
        "test_prediction.to_csv(\"Test_Data_Predictions.csv\")"
      ],
      "execution_count": 253,
      "outputs": []
    },
    {
      "cell_type": "code",
      "metadata": {
        "id": "Lylw611idkfA",
        "colab_type": "code",
        "colab": {}
      },
      "source": [
        ""
      ],
      "execution_count": null,
      "outputs": []
    }
  ]
}